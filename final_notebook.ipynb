{
 "cells": [
  {
   "cell_type": "code",
   "execution_count": 1,
   "id": "01f67cfb",
   "metadata": {},
   "outputs": [],
   "source": [
    "import pandas as pd \n",
    "import numpy as np \n",
    "import seaborn as sns\n",
    "import matplotlib as plt \n",
    "import sklearn.preprocessing\n",
    "from sklearn.model_selection import train_test_split\n",
    "from scipy import stats\n",
    "from sklearn.ensemble import RandomForestClassifier\n",
    "from sklearn.neighbors import KNeighborsClassifier\n",
    "from sklearn.tree import DecisionTreeClassifier\n",
    "from sklearn.metrics import classification_report\n",
    "from sklearn.linear_model import LogisticRegression\n",
    "import wrangle as w\n",
    "import model as m\n",
    "import warnings\n",
    "warnings.filterwarnings('ignore')"
   ]
  },
  {
   "cell_type": "markdown",
   "id": "4706ac1c",
   "metadata": {},
   "source": [
    "# Project Description\n",
    "The purpose of this project is to explore the game statistics of Browns football games and come up with recommendations for the best strategy for them to win a game. I will also create a model that can accurately predict the outcome of the game. "
   ]
  },
  {
   "cell_type": "markdown",
   "id": "72ecdb12",
   "metadata": {},
   "source": [
    "# Executive Summary \n",
    "* Browns lose more games than they win\n",
    "* Features used for model consisted of rushing yards and turnovers forced. The best model predicted the outcome of the game 4% better than the baseline\n",
    "* Recommend Browns strategy to win should consist of increasing their average rushing yards on offense and average number of forced turnovers in each game on defense. \n",
    "* Next Steps consist of exploring the variables pass yards and points allowed to determine if they have a significant association with the outcome of the game"
   ]
  },
  {
   "cell_type": "markdown",
   "id": "54b338b5",
   "metadata": {},
   "source": [
    "# Data Dictionary"
   ]
  },
  {
   "cell_type": "markdown",
   "id": "e48427fd",
   "metadata": {},
   "source": [
    "| Feature | Definition |\n",
    "|:--------|:-----------|\n",
    "|result| outcome of the game: W (win) or L(loss)|\n",
    "|location| home for games played at browns stadium, away for all others|\n",
    "|rush_yards_gained| rushing yards achieved by browns offense |\n",
    "|total_yards_allowed| total yards browns defense allowed other team's offense to achieve |\n",
    "|turnovers forced| number of turnovers created by browns defense|"
   ]
  },
  {
   "cell_type": "markdown",
   "id": "ee8e9018",
   "metadata": {},
   "source": [
    "# Acquire "
   ]
  },
  {
   "cell_type": "code",
   "execution_count": 2,
   "id": "986655a8",
   "metadata": {},
   "outputs": [],
   "source": [
    "# acquire data \n",
    "df = w.acquire_prep_data()"
   ]
  },
  {
   "cell_type": "code",
   "execution_count": 3,
   "id": "3a14779b",
   "metadata": {},
   "outputs": [],
   "source": [
    "# split data into train, validate and test dataset\n",
    "train, validate, test = w.split_data(df)"
   ]
  },
  {
   "cell_type": "markdown",
   "id": "45b38559",
   "metadata": {},
   "source": [
    "# Data Exploration"
   ]
  },
  {
   "cell_type": "markdown",
   "id": "d55f66d6",
   "metadata": {},
   "source": [
    "## How many games have the Browns won and lost in the past 3.5 seasons?"
   ]
  },
  {
   "cell_type": "code",
   "execution_count": 4,
   "id": "1aff917a",
   "metadata": {},
   "outputs": [
    {
     "data": {
      "text/plain": [
       "L    0.507692\n",
       "W    0.492308\n",
       "Name: result, dtype: float64"
      ]
     },
     "execution_count": 4,
     "metadata": {},
     "output_type": "execute_result"
    }
   ],
   "source": [
    "# what is the percentage of wins and losses for the Browns\n",
    "df.result.value_counts(normalize=True)"
   ]
  },
  {
   "cell_type": "code",
   "execution_count": 5,
   "id": "bd87450c",
   "metadata": {},
   "outputs": [
    {
     "data": {
      "text/plain": [
       "L    33\n",
       "W    32\n",
       "Name: result, dtype: int64"
      ]
     },
     "execution_count": 5,
     "metadata": {},
     "output_type": "execute_result"
    }
   ],
   "source": [
    "# # what is the count of wins and losses for the Browns\n",
    "df.result.value_counts()"
   ]
  },
  {
   "cell_type": "markdown",
   "id": "a065d2f5",
   "metadata": {},
   "source": [
    "### Takeaways\n",
    "- Browns lose more than they win "
   ]
  },
  {
   "cell_type": "markdown",
   "id": "aed115ef",
   "metadata": {},
   "source": [
    "## Is there an association between the location and result of the game? "
   ]
  },
  {
   "cell_type": "code",
   "execution_count": 6,
   "id": "f1bd8575",
   "metadata": {},
   "outputs": [
    {
     "data": {
      "image/png": "[encoded data removed]",
      "text/plain": [
       "<Figure size 432x288 with 1 Axes>"
      ]
     },
     "metadata": {
      "needs_background": "light"
     },
     "output_type": "display_data"
    }
   ],
   "source": [
    "# visualize game result by location\n",
    "w.countplot(train,\"location\",\"result\")"
   ]
  },
  {
   "cell_type": "markdown",
   "id": "97a69a4f",
   "metadata": {},
   "source": [
    "### Hypothesis: \n",
    "\n",
    "**Ho: There is no association between result and location.**<br>\n",
    "**Ha: There is an association between result and location.** "
   ]
  },
  {
   "cell_type": "code",
   "execution_count": 7,
   "id": "ba033254",
   "metadata": {},
   "outputs": [
    {
     "name": "stdout",
     "output_type": "stream",
     "text": [
      "chi^2 = 0.1169\n",
      "p     = 0.7324398999038724\n"
     ]
    }
   ],
   "source": [
    "# chi square test results \n",
    "w.chi_square(train,\"result\",\"location\")"
   ]
  },
  {
   "cell_type": "markdown",
   "id": "9c0e4842",
   "metadata": {},
   "source": [
    "### Takeaways \n",
    "- Browns win more games at home then away\n",
    "- Results of chi square test do not support an association between these two variables \n",
    "- Do not consider using game location for model"
   ]
  },
  {
   "cell_type": "markdown",
   "id": "c40147f5",
   "metadata": {},
   "source": [
    "## Is there an association betweeen rushing yards and result of the game?"
   ]
  },
  {
   "cell_type": "code",
   "execution_count": 8,
   "id": "70c4a4f2",
   "metadata": {},
   "outputs": [
    {
     "data": {
      "image/png": "[encoded data removed]",
      "text/plain": [
       "<Figure size 432x288 with 1 Axes>"
      ]
     },
     "metadata": {
      "needs_background": "light"
     },
     "output_type": "display_data"
    }
   ],
   "source": [
    "# distribution of browns games won and rushing yards \n",
    "w.histogram_rush_wins(train)"
   ]
  },
  {
   "cell_type": "code",
   "execution_count": 9,
   "id": "02a80e7b",
   "metadata": {},
   "outputs": [
    {
     "data": {
      "image/png": "[encoded data removed]",
      "text/plain": [
       "<Figure size 432x288 with 1 Axes>"
      ]
     },
     "metadata": {
      "needs_background": "light"
     },
     "output_type": "display_data"
    }
   ],
   "source": [
    "# distribution of browns games lost and rushing yards \n",
    "w.histogram_rush_loss(train)"
   ]
  },
  {
   "cell_type": "markdown",
   "id": "7e494777",
   "metadata": {},
   "source": [
    "### Hypothesis: \n",
    "\n",
    "**Ho: Mean rushing yards in games won <= Mean of rush yards in all games.**<br>\n",
    "**Ha: Mean of rushing yards in games won is > Mean of rush yards in all games.** "
   ]
  },
  {
   "cell_type": "code",
   "execution_count": 10,
   "id": "d617f0fb",
   "metadata": {},
   "outputs": [
    {
     "name": "stdout",
     "output_type": "stream",
     "text": [
      "t = -2.8096\n",
      "p/2     = 0.004104438372629666\n"
     ]
    }
   ],
   "source": [
    "# results of statistical test \n",
    "w.ttest_ind_rushing(train)"
   ]
  },
  {
   "cell_type": "markdown",
   "id": "5f72d912",
   "metadata": {},
   "source": [
    "### Takeaways\n",
    "- Reject null hypothesis and accept alternative \n",
    "- The statistical test supports an association between rushing yards gained impacts the result of the game\n",
    "- Consider using rush yards gained for model "
   ]
  },
  {
   "cell_type": "markdown",
   "id": "3e6ba3a9",
   "metadata": {},
   "source": [
    "## Is there an association betweeen turnovers forced and result of the game?"
   ]
  },
  {
   "cell_type": "code",
   "execution_count": 11,
   "id": "69e613bc",
   "metadata": {},
   "outputs": [
    {
     "data": {
      "image/png": "[encoded data removed]",
      "text/plain": [
       "<Figure size 432x288 with 1 Axes>"
      ]
     },
     "metadata": {
      "needs_background": "light"
     },
     "output_type": "display_data"
    }
   ],
   "source": [
    "# distribution of browns games won and forced turnovers \n",
    "w.histogram_forced_turnovers_wins(train)"
   ]
  },
  {
   "cell_type": "code",
   "execution_count": 12,
   "id": "1564fbfd",
   "metadata": {
    "scrolled": true
   },
   "outputs": [
    {
     "data": {
      "image/png": "[encoded data removed]",
      "text/plain": [
       "<Figure size 432x288 with 1 Axes>"
      ]
     },
     "metadata": {
      "needs_background": "light"
     },
     "output_type": "display_data"
    }
   ],
   "source": [
    "# distribution of browns games lost and forced turnovers \n",
    "w.histogram_forced_turnovers_loss(train)"
   ]
  },
  {
   "cell_type": "code",
   "execution_count": 13,
   "id": "b6150b04",
   "metadata": {
    "scrolled": true
   },
   "outputs": [
    {
     "name": "stdout",
     "output_type": "stream",
     "text": [
      "t = -3.2580\n",
      "p/2     = 0.0012990882723402553\n"
     ]
    }
   ],
   "source": [
    "# statistical test results\n",
    "w.ttest_ind_forced_turnovers(train)"
   ]
  },
  {
   "cell_type": "markdown",
   "id": "a339ad4f",
   "metadata": {},
   "source": [
    "### Hypothesis: \n",
    "\n",
    "**Ho: Mean of turnovers forced in games won <= Mean of turnovers forced in games lost.**<br>\n",
    "**Ha: Mean of turnovers forced in games won is > Mean of turnovers forced in games lost.** "
   ]
  },
  {
   "cell_type": "markdown",
   "id": "83dce374",
   "metadata": {},
   "source": [
    "### Takeaways\n",
    "- Reject null hypothesis and accept alternative \n",
    "- The statistical test supports an association between turnovers forced and game result\n",
    "- Consider using turnovers forced for model "
   ]
  },
  {
   "cell_type": "markdown",
   "id": "c610d8db",
   "metadata": {},
   "source": [
    "## Is there an association betweeen total yards allowed and result of the game?"
   ]
  },
  {
   "cell_type": "code",
   "execution_count": 14,
   "id": "61b9e561",
   "metadata": {},
   "outputs": [
    {
     "data": {
      "image/png": "[encoded data removed]",
      "text/plain": [
       "<Figure size 432x288 with 1 Axes>"
      ]
     },
     "metadata": {
      "needs_background": "light"
     },
     "output_type": "display_data"
    }
   ],
   "source": [
    "# distribution of total yards allowed in games won\n",
    "w.histogram_total_yards_allowed_wins(train)"
   ]
  },
  {
   "cell_type": "code",
   "execution_count": 15,
   "id": "cb7d7abe",
   "metadata": {},
   "outputs": [
    {
     "data": {
      "image/png": "[encoded data removed]",
      "text/plain": [
       "<Figure size 432x288 with 1 Axes>"
      ]
     },
     "metadata": {
      "needs_background": "light"
     },
     "output_type": "display_data"
    }
   ],
   "source": [
    "# distribution of total yards allowed in games lost\n",
    "w.histogram_total_yards_allowed_loss(train)"
   ]
  },
  {
   "cell_type": "code",
   "execution_count": 16,
   "id": "04dcdcfc",
   "metadata": {
    "scrolled": true
   },
   "outputs": [
    {
     "name": "stdout",
     "output_type": "stream",
     "text": [
      "t = -0.7684\n",
      "p/2     = 0.22446426585646911\n"
     ]
    }
   ],
   "source": [
    "# statistical test results\n",
    "w.ttest_ind_total_yards_allowed(train)"
   ]
  },
  {
   "cell_type": "markdown",
   "id": "70e38e1f",
   "metadata": {},
   "source": [
    "### Hypothesis: \n",
    "\n",
    "**Ho: Mean of total yards allowed in games won <= Mean of total yards allowed in games lost.**<br>\n",
    "**Ha: Mean of total yards allowed in games won is > Mean of total yards allowed in games lost.** "
   ]
  },
  {
   "cell_type": "markdown",
   "id": "22f57a30",
   "metadata": {},
   "source": [
    "### Takeaways\n",
    "- Accept null hypothesis\n",
    "- The statistical test does not support an association between total yards allowed and game result\n",
    "- Do not consider using total yards for model"
   ]
  },
  {
   "cell_type": "markdown",
   "id": "8e1dcf6f",
   "metadata": {},
   "source": [
    "## Model Preparation"
   ]
  },
  {
   "cell_type": "code",
   "execution_count": 17,
   "id": "550fc139",
   "metadata": {},
   "outputs": [],
   "source": [
    "# create model variables \n",
    "X_train, X_validate, X_test, y_train, y_validate, y_test = m.model_columns(train,validate,test)"
   ]
  },
  {
   "cell_type": "code",
   "execution_count": 18,
   "id": "4764a526",
   "metadata": {},
   "outputs": [],
   "source": [
    "# scaling variables for model\n",
    "X_train_scaled,X_validate_scaled,X_test_scaled = m.scaling(X_train,X_validate,X_test)"
   ]
  },
  {
   "cell_type": "code",
   "execution_count": 19,
   "id": "426267fb",
   "metadata": {
    "scrolled": true
   },
   "outputs": [
    {
     "name": "stdout",
     "output_type": "stream",
     "text": [
      "Baseline Accuracy: 0.5\n"
     ]
    }
   ],
   "source": [
    "# creating baseline model \n",
    "m.baseline_model(y_train)"
   ]
  },
  {
   "cell_type": "markdown",
   "id": "f5b78db0",
   "metadata": {},
   "source": [
    "# Models"
   ]
  },
  {
   "cell_type": "markdown",
   "id": "aa80d8db",
   "metadata": {},
   "source": [
    "### Evaluate models on train data"
   ]
  },
  {
   "cell_type": "code",
   "execution_count": 20,
   "id": "695af978",
   "metadata": {},
   "outputs": [
    {
     "name": "stdout",
     "output_type": "stream",
     "text": [
      "Accuracy of Decision Tree classifier: 0.50\n"
     ]
    }
   ],
   "source": [
    "# decision tree model\n",
    "m.decision_tree(X_train,y_train,X_train_scaled,y_train)"
   ]
  },
  {
   "cell_type": "code",
   "execution_count": 21,
   "id": "80062e85",
   "metadata": {},
   "outputs": [
    {
     "name": "stdout",
     "output_type": "stream",
     "text": [
      "Accuracy of KNN classifier: 0.50\n"
     ]
    }
   ],
   "source": [
    "# knn model\n",
    "m.knn_model(X_train,y_train,X_train_scaled,y_train)"
   ]
  },
  {
   "cell_type": "code",
   "execution_count": 22,
   "id": "5027a893",
   "metadata": {},
   "outputs": [
    {
     "name": "stdout",
     "output_type": "stream",
     "text": [
      "Accuracy of Random Forrest classifier: 0.50\n"
     ]
    }
   ],
   "source": [
    "# random forrest model \n",
    "m.random_forrest_model(X_train,y_train,X_train_scaled,y_train)"
   ]
  },
  {
   "cell_type": "code",
   "execution_count": 23,
   "id": "b9977ead",
   "metadata": {},
   "outputs": [
    {
     "name": "stdout",
     "output_type": "stream",
     "text": [
      "Accuracy of Logistic Regression classifier: 0.50\n"
     ]
    }
   ],
   "source": [
    "# logistic regression model \n",
    "m.log_reg(X_train,y_train,X_train_scaled,y_train)"
   ]
  },
  {
   "cell_type": "markdown",
   "id": "b15005d3",
   "metadata": {},
   "source": [
    "### Evaluate models on validate data"
   ]
  },
  {
   "cell_type": "code",
   "execution_count": 24,
   "id": "b1e4a5db",
   "metadata": {},
   "outputs": [
    {
     "name": "stdout",
     "output_type": "stream",
     "text": [
      "Accuracy of Decision Tree classifier: 0.50\n"
     ]
    }
   ],
   "source": [
    "# decision tree model\n",
    "m.decision_tree(X_train,y_train,X_validate_scaled,y_validate)"
   ]
  },
  {
   "cell_type": "code",
   "execution_count": 25,
   "id": "aa76d62a",
   "metadata": {},
   "outputs": [
    {
     "name": "stdout",
     "output_type": "stream",
     "text": [
      "Accuracy of KNN classifier: 0.50\n"
     ]
    }
   ],
   "source": [
    "# knn model\n",
    "m.knn_model(X_train,y_train,X_validate_scaled,y_validate)"
   ]
  },
  {
   "cell_type": "code",
   "execution_count": 26,
   "id": "cff1e733",
   "metadata": {},
   "outputs": [
    {
     "name": "stdout",
     "output_type": "stream",
     "text": [
      "Accuracy of Random Forrest classifier: 0.50\n"
     ]
    }
   ],
   "source": [
    "# random forrest model \n",
    "m.random_forrest_model(X_train,y_train,X_validate_scaled,y_validate)"
   ]
  },
  {
   "cell_type": "code",
   "execution_count": 27,
   "id": "5df331fd",
   "metadata": {},
   "outputs": [
    {
     "name": "stdout",
     "output_type": "stream",
     "text": [
      "Accuracy of Logistic Regression classifier: 0.50\n"
     ]
    }
   ],
   "source": [
    "# logistic regression model \n",
    "m.log_reg(X_train,y_train,X_validate_scaled,y_validate)"
   ]
  },
  {
   "cell_type": "markdown",
   "id": "41f7f2f5",
   "metadata": {},
   "source": [
    "### Evaluate best model on test data"
   ]
  },
  {
   "cell_type": "code",
   "execution_count": 28,
   "id": "01737ff7",
   "metadata": {
    "scrolled": false
   },
   "outputs": [
    {
     "name": "stdout",
     "output_type": "stream",
     "text": [
      "Accuracy of Random Forrest classifier: 0.54\n"
     ]
    }
   ],
   "source": [
    "# random forrest model \n",
    "m.random_forrest_model_test(X_train,y_train,X_test_scaled,y_test)"
   ]
  },
  {
   "cell_type": "markdown",
   "id": "4c829ef1",
   "metadata": {},
   "source": [
    "# Conclusion\n",
    "\n",
    "### Summary\n",
    "- Browns lose more games than they win \n",
    "- Browns win more games at home then away \n",
    "- The significant features identified during exploration were rushing yards and forced turnovers\n",
    "- The location of the game did not have an association with the result of the game \n",
    "- The total yards allowed did not have an association with the result of the game \n",
    "\n",
    "### Modeling Summary \n",
    "- The features used for modeling were rushing yards gained and turnovers forced\n",
    "- The final model performed 4% better than the baseline model at predicting the result of the game\n",
    "- I would not recommend this model for production\n",
    "\n",
    "\n",
    "### Recommendations\n",
    "* I would recommend the browns center their offensive strategy on rushing the ball\n",
    "* The defense should focus their strategy on playing aggressive and creating turnovers and not on how many yards they give up\n",
    "\n",
    "\n",
    "### Next Steps\n",
    "* With more time I would explore if there is an association between passing yards gained and game result\n",
    "* Find out if there is a relationship between points allowed by the Browns and the outcome of the game\n",
    "* Explore more features to combine with rushing yards gained and turnovers forced to find out if that creates a better model"
   ]
  },
  {
   "cell_type": "raw",
   "id": "d17a0f53",
   "metadata": {},
   "source": []
  }
 ],
 "metadata": {
  "kernelspec": {
   "display_name": "Python 3 (ipykernel)",
   "language": "python",
   "name": "python3"
  },
  "language_info": {
   "codemirror_mode": {
    "name": "ipython",
    "version": 3
   },
   "file_extension": ".py",
   "mimetype": "text/x-python",
   "name": "python",
   "nbconvert_exporter": "python",
   "pygments_lexer": "ipython3",
   "version": "3.9.12"
  }
 },
 "nbformat": 4,
 "nbformat_minor": 5
}
