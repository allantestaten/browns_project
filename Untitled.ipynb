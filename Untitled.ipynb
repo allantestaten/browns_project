{
 "cells": [
  {
   "cell_type": "code",
   "execution_count": 1,
   "id": "37649024",
   "metadata": {},
   "outputs": [],
   "source": [
    "import pandas as pd \n",
    "import numpy as np \n",
    "import seaborn as sns\n",
    "import matplotlib as plt \n",
    "from sklearn.model_selection import train_test_split\n",
    "from scipy import stats\n",
    "from sklearn.ensemble import RandomForestClassifier\n",
    "from sklearn.neighbors import KNeighborsClassifier\n",
    "from sklearn.tree import DecisionTreeClassifier, plot_tree, export_text\n",
    "from sklearn.metrics import classification_report, confusion_matrix, plot_confusion_matrix\n",
    "from sklearn.linear_model import LogisticRegression\n",
    "import wrangle as w\n"
   ]
  },
  {
   "cell_type": "code",
   "execution_count": 2,
   "id": "ba2e0784",
   "metadata": {},
   "outputs": [],
   "source": [
    "# acquire data \n",
    "df = w.acquire_prep_data()"
   ]
  },
  {
   "cell_type": "code",
   "execution_count": 3,
   "id": "5c53b02e",
   "metadata": {
    "scrolled": true
   },
   "outputs": [
    {
     "name": "stdout",
     "output_type": "stream",
     "text": [
      "<class 'pandas.core.frame.DataFrame'>\n",
      "RangeIndex: 65 entries, 0 to 64\n",
      "Data columns (total 15 columns):\n",
      " #   Column               Non-Null Count  Dtype  \n",
      "---  ------               --------------  -----  \n",
      " 0   result               65 non-null     object \n",
      " 1   location             65 non-null     object \n",
      " 2   opponent             65 non-null     object \n",
      " 3   points_scored        65 non-null     int64  \n",
      " 4   points_allowed       65 non-null     int64  \n",
      " 5   first_downs_gained   65 non-null     int64  \n",
      " 6   total_yards_gained   65 non-null     int64  \n",
      " 7   pass_yards_gained    65 non-null     int64  \n",
      " 8   rush_yards_gained    65 non-null     int64  \n",
      " 9   turnovers            65 non-null     float64\n",
      " 10  first_downs_allowed  65 non-null     int64  \n",
      " 11  total_yards_allowed  65 non-null     int64  \n",
      " 12  pass_yards_allowed   65 non-null     int64  \n",
      " 13  rush_yards_allowed   65 non-null     int64  \n",
      " 14  turnovers_forced     65 non-null     float64\n",
      "dtypes: float64(2), int64(10), object(3)\n",
      "memory usage: 7.7+ KB\n"
     ]
    }
   ],
   "source": [
    "df.info()"
   ]
  },
  {
   "cell_type": "code",
   "execution_count": 4,
   "id": "9a756fc7",
   "metadata": {},
   "outputs": [],
   "source": [
    "# split data into train, validate and test dataset\n",
    "train, validate, test = w.split_data(df)"
   ]
  },
  {
   "cell_type": "code",
   "execution_count": 5,
   "id": "fa4bb90d",
   "metadata": {},
   "outputs": [
    {
     "data": {
      "image/png": "[encoded data removed]",
      "text/plain": [
       "<Figure size 432x288 with 1 Axes>"
      ]
     },
     "metadata": {
      "needs_background": "light"
     },
     "output_type": "display_data"
    }
   ],
   "source": [
    "# visualize game result by location\n",
    "w.countplot(train,\"location\",\"result\")"
   ]
  },
  {
   "cell_type": "code",
   "execution_count": 6,
   "id": "2aa5806f",
   "metadata": {},
   "outputs": [
    {
     "name": "stdout",
     "output_type": "stream",
     "text": [
      "chi^2 = 0.1169\n",
      "p     = 0.7324398999038724\n"
     ]
    }
   ],
   "source": [
    "# chi square test results \n",
    "w.chi_square(train,\"result\",\"location\")"
   ]
  },
  {
   "cell_type": "code",
   "execution_count": null,
   "id": "f279dfa0",
   "metadata": {},
   "outputs": [],
   "source": []
  }
 ],
 "metadata": {
  "kernelspec": {
   "display_name": "Python 3 (ipykernel)",
   "language": "python",
   "name": "python3"
  },
  "language_info": {
   "codemirror_mode": {
    "name": "ipython",
    "version": 3
   },
   "file_extension": ".py",
   "mimetype": "text/x-python",
   "name": "python",
   "nbconvert_exporter": "python",
   "pygments_lexer": "ipython3",
   "version": "3.9.12"
  }
 },
 "nbformat": 4,
 "nbformat_minor": 5
}
