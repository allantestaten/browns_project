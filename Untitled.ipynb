{
 "cells": [
  {
   "cell_type": "code",
   "execution_count": 1,
   "id": "97f51468",
   "metadata": {},
   "outputs": [],
   "source": [
    "import pandas as pd \n",
    "import numpy as np \n",
    "import seaborn as sns\n",
    "import matplotlib as plt \n",
    "from sklearn.model_selection import train_test_split\n",
    "from scipy import stats\n",
    "from sklearn.ensemble import RandomForestClassifier\n",
    "from sklearn.neighbors import KNeighborsClassifier\n",
    "from sklearn.tree import DecisionTreeClassifier, plot_tree, export_text\n",
    "from sklearn.metrics import classification_report, confusion_matrix, plot_confusion_matrix\n",
    "from sklearn.linear_model import LogisticRegression\n",
    "import wrangle as w\n"
   ]
  },
  {
   "cell_type": "code",
   "execution_count": 2,
   "id": "5dbcee18",
   "metadata": {},
   "outputs": [],
   "source": [
    "# acquire data \n",
    "df = w.acquire_prep_data()"
   ]
  },
  {
   "cell_type": "code",
   "execution_count": 3,
   "id": "9ed0e15b",
   "metadata": {
    "scrolled": true
   },
   "outputs": [
    {
     "name": "stdout",
     "output_type": "stream",
     "text": [
      "<class 'pandas.core.frame.DataFrame'>\n",
      "RangeIndex: 65 entries, 0 to 64\n",
      "Data columns (total 15 columns):\n",
      " #   Column               Non-Null Count  Dtype  \n",
      "---  ------               --------------  -----  \n",
      " 0   result               65 non-null     object \n",
      " 1   location             65 non-null     object \n",
      " 2   opponent             65 non-null     object \n",
      " 3   points_scored        65 non-null     int64  \n",
      " 4   points_allowed       65 non-null     int64  \n",
      " 5   first_downs_gained   65 non-null     int64  \n",
      " 6   total_yards_gained   65 non-null     int64  \n",
      " 7   pass_yards_gained    65 non-null     int64  \n",
      " 8   rush_yards_gained    65 non-null     int64  \n",
      " 9   turnovers            65 non-null     float64\n",
      " 10  first_downs_allowed  65 non-null     int64  \n",
      " 11  total_yards_allowed  65 non-null     int64  \n",
      " 12  pass_yards_allowed   65 non-null     int64  \n",
      " 13  rush_yards_allowed   65 non-null     int64  \n",
      " 14  turnovers_forced     65 non-null     float64\n",
      "dtypes: float64(2), int64(10), object(3)\n",
      "memory usage: 7.7+ KB\n"
     ]
    }
   ],
   "source": [
    "df.info()"
   ]
  },
  {
   "cell_type": "code",
   "execution_count": 4,
   "id": "2fa1a630",
   "metadata": {},
   "outputs": [],
   "source": [
    "# split data into train, validate and test dataset\n",
    "train, validate, test = w.split_data(df)"
   ]
  },
  {
   "cell_type": "markdown",
   "id": "57dfa09e",
   "metadata": {},
   "source": [
    "## How many games have the Browns won and lost in the past 3.5 seasons?"
   ]
  },
  {
   "cell_type": "code",
   "execution_count": 5,
   "id": "eec5ca5e",
   "metadata": {},
   "outputs": [
    {
     "data": {
      "text/plain": [
       "L    0.507692\n",
       "W    0.492308\n",
       "Name: result, dtype: float64"
      ]
     },
     "execution_count": 5,
     "metadata": {},
     "output_type": "execute_result"
    }
   ],
   "source": [
    "# what is the percentage of wins and losses for the Browns\n",
    "df.result.value_counts(normalize=True)"
   ]
  },
  {
   "cell_type": "code",
   "execution_count": 6,
   "id": "fd6a4eff",
   "metadata": {},
   "outputs": [
    {
     "data": {
      "text/plain": [
       "L    33\n",
       "W    32\n",
       "Name: result, dtype: int64"
      ]
     },
     "execution_count": 6,
     "metadata": {},
     "output_type": "execute_result"
    }
   ],
   "source": [
    "# # what is the count of wins and losses for the Browns\n",
    "df.result.value_counts()"
   ]
  },
  {
   "cell_type": "markdown",
   "id": "2c4895d6",
   "metadata": {},
   "source": [
    "### Takeaways\n",
    "- Browns lose more than they win \n",
    "- Baseline model would be browns lose every game and would be right "
   ]
  },
  {
   "cell_type": "markdown",
   "id": "4afa7ab2",
   "metadata": {},
   "source": [
    "## Is there an association between the location and result of the game? "
   ]
  },
  {
   "cell_type": "code",
   "execution_count": 7,
   "id": "dc6f61be",
   "metadata": {},
   "outputs": [
    {
     "data": {
      "image/png": "[encoded data removed]",
      "text/plain": [
       "<Figure size 432x288 with 1 Axes>"
      ]
     },
     "metadata": {
      "needs_background": "light"
     },
     "output_type": "display_data"
    }
   ],
   "source": [
    "# visualize game result by location\n",
    "w.countplot(train,\"location\",\"result\")"
   ]
  },
  {
   "cell_type": "markdown",
   "id": "c95c6d4f",
   "metadata": {},
   "source": [
    "### Hypothesis: \n",
    "\n",
    "**Ho: There is no association between result and location.**<br>\n",
    "**Ha: There is an association between result and location.** "
   ]
  },
  {
   "cell_type": "code",
   "execution_count": 8,
   "id": "0157cbe7",
   "metadata": {},
   "outputs": [
    {
     "name": "stdout",
     "output_type": "stream",
     "text": [
      "chi^2 = 0.1169\n",
      "p     = 0.7324398999038724\n"
     ]
    }
   ],
   "source": [
    "# chi square test results \n",
    "w.chi_square(train,\"result\",\"location\")"
   ]
  },
  {
   "cell_type": "markdown",
   "id": "d9354754",
   "metadata": {},
   "source": [
    "### Takeaways \n",
    "- Appears that browns win more games at home then away\n",
    "- Results of chi square test do not support a correlation between these two variables "
   ]
  },
  {
   "cell_type": "markdown",
   "id": "13e3b6c4",
   "metadata": {},
   "source": [
    "## Is there a relationship betweeen rushing yards and result of the game?"
   ]
  },
  {
   "cell_type": "code",
   "execution_count": 9,
   "id": "2128cc15",
   "metadata": {},
   "outputs": [
    {
     "data": {
      "image/png": "[encoded data removed]",
      "text/plain": [
       "<Figure size 432x288 with 1 Axes>"
      ]
     },
     "metadata": {
      "needs_background": "light"
     },
     "output_type": "display_data"
    }
   ],
   "source": [
    "# visualization of browns games won and rushing yards \n",
    "w.histogram_rush_wins(train)"
   ]
  },
  {
   "cell_type": "code",
   "execution_count": 10,
   "id": "7e1babef",
   "metadata": {},
   "outputs": [
    {
     "data": {
      "image/png": "[encoded data removed]",
      "text/plain": [
       "<Figure size 432x288 with 1 Axes>"
      ]
     },
     "metadata": {
      "needs_background": "light"
     },
     "output_type": "display_data"
    }
   ],
   "source": [
    "# visualization of browns games lost and rushing yards \n",
    "w.histogram_rush_loss(train)"
   ]
  },
  {
   "cell_type": "markdown",
   "id": "26c5d68b",
   "metadata": {},
   "source": [
    "### Hypothesis: \n",
    "\n",
    "**Ho: Mean rushing yards in games won <= Mean of rush yards in all games.**<br>\n",
    "**Ha: Mean of rushing yards in games won is > Mean of rush yards in all games.** "
   ]
  },
  {
   "cell_type": "code",
   "execution_count": 11,
   "id": "10e873c2",
   "metadata": {},
   "outputs": [
    {
     "name": "stdout",
     "output_type": "stream",
     "text": [
      "t = -2.8096\n",
      "p/2     = 0.004104438372629666\n"
     ]
    }
   ],
   "source": [
    "# results of statistical test \n",
    "w.ttest_ind_rushing(train)"
   ]
  },
  {
   "cell_type": "markdown",
   "id": "bbc343ff",
   "metadata": {},
   "source": [
    "### Takeaways\n",
    "- Reject null hypothesis and accept alternative \n",
    "- There is support for the idea that the man of rushing yards in games won is greater than in all games \n",
    "- Consider using rush yards for model "
   ]
  },
  {
   "cell_type": "markdown",
   "id": "090e3513",
   "metadata": {},
   "source": [
    "## Is there a relationship betweeen forced turnovers and result of the game?"
   ]
  },
  {
   "cell_type": "code",
   "execution_count": null,
   "id": "0af9b22f",
   "metadata": {},
   "outputs": [],
   "source": []
  }
 ],
 "metadata": {
  "kernelspec": {
   "display_name": "Python 3 (ipykernel)",
   "language": "python",
   "name": "python3"
  },
  "language_info": {
   "codemirror_mode": {
    "name": "ipython",
    "version": 3
   },
   "file_extension": ".py",
   "mimetype": "text/x-python",
   "name": "python",
   "nbconvert_exporter": "python",
   "pygments_lexer": "ipython3",
   "version": "3.9.12"
  }
 },
 "nbformat": 4,
 "nbformat_minor": 5
}
