{
 "cells": [
  {
   "cell_type": "code",
   "execution_count": 1,
   "id": "2a5449d1",
   "metadata": {},
   "outputs": [],
   "source": [
    "import pandas as pd \n",
    "import numpy as np \n",
    "import seaborn as sns\n",
    "import matplotlib as plt "
   ]
  },
  {
   "cell_type": "markdown",
   "id": "de85b28b",
   "metadata": {},
   "source": [
    "## # Data Prep \n",
    "\n",
    "- Gathered browns' most recent schedule and game results data from Pro football referece .com on Dec 21 \n",
    "- Downloaded last 3 full seasons from 2019 to 2021 and partial season for 2022 which only includes first 16 regular season games \n",
    "- Combine games into one excel document \n",
    "- remove bye weeks \n",
    "- Deleted data corresponding to expected points, because this is an engineered feature \n",
    "- Rename columns under categories score, offense and defense and expected points \n",
    "    - tm to points scored, opp to points allowed \n",
    "    - 1st downs gained\n",
    "    - pass yards gained \n",
    "    - rush yards gained \n",
    "    - turnovers \n",
    "    \n",
    "    Defense \n",
    "    - first downs allowed \n",
    "    - total yards allowed \n",
    "    - pass yards allowed \n",
    "    - rush yards allowed \n",
    "    - forced turnovers \n",
    " - Including playoff games in record because goal is to predict browns ability to win a game regardless of whether it is regular season or post season \n",
    " \n",
    "- delete first row of data (score, offense, defense should be removed) \n",
    "- updated dates to reflect year game was played\n"
   ]
  },
  {
   "cell_type": "code",
   "execution_count": 2,
   "id": "25a43916",
   "metadata": {},
   "outputs": [],
   "source": [
    "df = pd.read_excel('consolidated record.xls')"
   ]
  },
  {
   "cell_type": "code",
   "execution_count": 3,
   "id": "0b321178",
   "metadata": {},
   "outputs": [
    {
     "name": "stdout",
     "output_type": "stream",
     "text": [
      "<class 'pandas.core.frame.DataFrame'>\n",
      "RangeIndex: 65 entries, 0 to 64\n",
      "Data columns (total 22 columns):\n",
      " #   Column      Non-Null Count  Dtype         \n",
      "---  ------      --------------  -----         \n",
      " 0   Week        65 non-null     int64         \n",
      " 1   Day         65 non-null     object        \n",
      " 2   Date        65 non-null     datetime64[ns]\n",
      " 3   Unnamed: 3  65 non-null     object        \n",
      " 4   Unnamed: 4  65 non-null     object        \n",
      " 5   Unnamed: 5  65 non-null     object        \n",
      " 6   OT          1 non-null      object        \n",
      " 7   Rec         65 non-null     object        \n",
      " 8   Location    33 non-null     object        \n",
      " 9   Opp         65 non-null     object        \n",
      " 10  tm          65 non-null     int64         \n",
      " 11  Opp.1       65 non-null     int64         \n",
      " 12  1stD o      65 non-null     int64         \n",
      " 13  TotYd o     65 non-null     int64         \n",
      " 14  PassY o     65 non-null     int64         \n",
      " 15  RushY o     65 non-null     int64         \n",
      " 16  TO o        47 non-null     float64       \n",
      " 17  1stD d      65 non-null     int64         \n",
      " 18  TotYd d     65 non-null     int64         \n",
      " 19  PassY d     65 non-null     int64         \n",
      " 20  RushY d     65 non-null     int64         \n",
      " 21  TO d        43 non-null     float64       \n",
      "dtypes: datetime64[ns](1), float64(2), int64(11), object(8)\n",
      "memory usage: 11.3+ KB\n"
     ]
    }
   ],
   "source": [
    "df.info()"
   ]
  },
  {
   "cell_type": "code",
   "execution_count": 4,
   "id": "c88214f3",
   "metadata": {},
   "outputs": [],
   "source": [
    "# drop columns don't want: OT, Rec, Week, Unnamed: 3, 4\n",
    "# dropping columns \n",
    "df = df.drop(columns= ['Week','Day','Date','Unnamed: 3','Unnamed: 4','OT','Rec'])\n",
    "\n"
   ]
  },
  {
   "cell_type": "code",
   "execution_count": 5,
   "id": "57872767",
   "metadata": {},
   "outputs": [],
   "source": [
    " df.columns = [column.replace(' ','_').lower() for column in df]"
   ]
  },
  {
   "cell_type": "code",
   "execution_count": 6,
   "id": "f8c99dde",
   "metadata": {},
   "outputs": [
    {
     "name": "stdout",
     "output_type": "stream",
     "text": [
      "<class 'pandas.core.frame.DataFrame'>\n",
      "RangeIndex: 65 entries, 0 to 64\n",
      "Data columns (total 15 columns):\n",
      " #   Column      Non-Null Count  Dtype  \n",
      "---  ------      --------------  -----  \n",
      " 0   unnamed:_5  65 non-null     object \n",
      " 1   location    33 non-null     object \n",
      " 2   opp         65 non-null     object \n",
      " 3   tm          65 non-null     int64  \n",
      " 4   opp.1       65 non-null     int64  \n",
      " 5   1std_o      65 non-null     int64  \n",
      " 6   totyd_o_    65 non-null     int64  \n",
      " 7   passy_o_    65 non-null     int64  \n",
      " 8   rushy_o_    65 non-null     int64  \n",
      " 9   to_o_       47 non-null     float64\n",
      " 10  1std_d_     65 non-null     int64  \n",
      " 11  totyd_d_    65 non-null     int64  \n",
      " 12  passy_d_    65 non-null     int64  \n",
      " 13  rushy_d_    65 non-null     int64  \n",
      " 14  to_d_       43 non-null     float64\n",
      "dtypes: float64(2), int64(10), object(3)\n",
      "memory usage: 7.7+ KB\n"
     ]
    }
   ],
   "source": [
    "df.info()"
   ]
  },
  {
   "cell_type": "code",
   "execution_count": 7,
   "id": "13c790ee",
   "metadata": {},
   "outputs": [],
   "source": [
    "# renaming column names to more readable format\n",
    "df = df.rename(columns = {'unnamed:_5':'result', 'opp':'opponent',\n",
    "                              'opp.1':'points_allowed', \n",
    "                              'tm':'points_scored',\n",
    "                              '1std_o':'first_downs_gained', 'totyd_o_':'total_yards_gained',\n",
    "                              'passy_o_':'pass_yards_gained',\n",
    "                              'rushy_o_':'rush_yards_gained','to_o_':'turnovers','1std_d_':'first_downs_allowed',\n",
    "                              'totyd_d_':'total_yards_allowed',\n",
    "                              'passy_d_':'pass_yards_allowed','rushy_d_':'rush_yards_allowed',\n",
    "                              'to_d_':'turnovers_forced',})"
   ]
  },
  {
   "cell_type": "code",
   "execution_count": 8,
   "id": "cb6b6196",
   "metadata": {},
   "outputs": [
    {
     "name": "stdout",
     "output_type": "stream",
     "text": [
      "<class 'pandas.core.frame.DataFrame'>\n",
      "RangeIndex: 65 entries, 0 to 64\n",
      "Data columns (total 15 columns):\n",
      " #   Column               Non-Null Count  Dtype  \n",
      "---  ------               --------------  -----  \n",
      " 0   result               65 non-null     object \n",
      " 1   location             33 non-null     object \n",
      " 2   opponent             65 non-null     object \n",
      " 3   points_scored        65 non-null     int64  \n",
      " 4   points_allowed       65 non-null     int64  \n",
      " 5   first_downs_gained   65 non-null     int64  \n",
      " 6   total_yards_gained   65 non-null     int64  \n",
      " 7   pass_yards_gained    65 non-null     int64  \n",
      " 8   rush_yards_gained    65 non-null     int64  \n",
      " 9   turnovers            47 non-null     float64\n",
      " 10  first_downs_allowed  65 non-null     int64  \n",
      " 11  total_yards_allowed  65 non-null     int64  \n",
      " 12  pass_yards_allowed   65 non-null     int64  \n",
      " 13  rush_yards_allowed   65 non-null     int64  \n",
      " 14  turnovers_forced     43 non-null     float64\n",
      "dtypes: float64(2), int64(10), object(3)\n",
      "memory usage: 7.7+ KB\n"
     ]
    }
   ],
   "source": [
    "# cleaned column names\n",
    "df.info()"
   ]
  },
  {
   "cell_type": "markdown",
   "id": "552c5f52",
   "metadata": {},
   "source": [
    "## Address nulls \n",
    "- location \n",
    "- turnovers \n",
    "- turnovers forced \n",
    "\n",
    "null in turnovervs and turnovers forced can be replaced with 0 \n",
    "null for location means home game "
   ]
  },
  {
   "cell_type": "code",
   "execution_count": 9,
   "id": "bf6c73d0",
   "metadata": {},
   "outputs": [],
   "source": [
    "# fill all nans with zero value \n",
    "df = df.fillna(0)"
   ]
  },
  {
   "cell_type": "code",
   "execution_count": 10,
   "id": "50128776",
   "metadata": {},
   "outputs": [
    {
     "name": "stdout",
     "output_type": "stream",
     "text": [
      "<class 'pandas.core.frame.DataFrame'>\n",
      "RangeIndex: 65 entries, 0 to 64\n",
      "Data columns (total 15 columns):\n",
      " #   Column               Non-Null Count  Dtype  \n",
      "---  ------               --------------  -----  \n",
      " 0   result               65 non-null     object \n",
      " 1   location             65 non-null     object \n",
      " 2   opponent             65 non-null     object \n",
      " 3   points_scored        65 non-null     int64  \n",
      " 4   points_allowed       65 non-null     int64  \n",
      " 5   first_downs_gained   65 non-null     int64  \n",
      " 6   total_yards_gained   65 non-null     int64  \n",
      " 7   pass_yards_gained    65 non-null     int64  \n",
      " 8   rush_yards_gained    65 non-null     int64  \n",
      " 9   turnovers            65 non-null     float64\n",
      " 10  first_downs_allowed  65 non-null     int64  \n",
      " 11  total_yards_allowed  65 non-null     int64  \n",
      " 12  pass_yards_allowed   65 non-null     int64  \n",
      " 13  rush_yards_allowed   65 non-null     int64  \n",
      " 14  turnovers_forced     65 non-null     float64\n",
      "dtypes: float64(2), int64(10), object(3)\n",
      "memory usage: 7.7+ KB\n"
     ]
    }
   ],
   "source": [
    "# no more nulls \n",
    "df.info()"
   ]
  },
  {
   "cell_type": "code",
   "execution_count": 11,
   "id": "3d0f8631",
   "metadata": {},
   "outputs": [],
   "source": [
    "# replace zeros in location with word home and replace @ symbol with away \n",
    "\n",
    "\n",
    "df['location'] = df['location'].replace([0, '@'], ['home', 'away',])\n"
   ]
  },
  {
   "cell_type": "code",
   "execution_count": 16,
   "id": "081d9add",
   "metadata": {},
   "outputs": [
    {
     "data": {
      "text/plain": [
       "(65, 15)"
      ]
     },
     "execution_count": 16,
     "metadata": {},
     "output_type": "execute_result"
    }
   ],
   "source": [
    "df.shape\n",
    "#65 observations with 15 columns "
   ]
  },
  {
   "cell_type": "code",
   "execution_count": 19,
   "id": "d7ffddfe",
   "metadata": {},
   "outputs": [
    {
     "data": {
      "text/html": [
       "<div>\n",
       "<style scoped>\n",
       "    .dataframe tbody tr th:only-of-type {\n",
       "        vertical-align: middle;\n",
       "    }\n",
       "\n",
       "    .dataframe tbody tr th {\n",
       "        vertical-align: top;\n",
       "    }\n",
       "\n",
       "    .dataframe thead th {\n",
       "        text-align: right;\n",
       "    }\n",
       "</style>\n",
       "<table border=\"1\" class=\"dataframe\">\n",
       "  <thead>\n",
       "    <tr style=\"text-align: right;\">\n",
       "      <th></th>\n",
       "      <th>count</th>\n",
       "      <th>mean</th>\n",
       "      <th>std</th>\n",
       "      <th>min</th>\n",
       "      <th>25%</th>\n",
       "      <th>50%</th>\n",
       "      <th>75%</th>\n",
       "      <th>max</th>\n",
       "    </tr>\n",
       "  </thead>\n",
       "  <tbody>\n",
       "    <tr>\n",
       "      <th>points_scored</th>\n",
       "      <td>65.0</td>\n",
       "      <td>22.615385</td>\n",
       "      <td>10.929736</td>\n",
       "      <td>3.0</td>\n",
       "      <td>14.0</td>\n",
       "      <td>22.0</td>\n",
       "      <td>29.0</td>\n",
       "      <td>49.0</td>\n",
       "    </tr>\n",
       "    <tr>\n",
       "      <th>points_allowed</th>\n",
       "      <td>65.0</td>\n",
       "      <td>24.123077</td>\n",
       "      <td>11.009240</td>\n",
       "      <td>3.0</td>\n",
       "      <td>16.0</td>\n",
       "      <td>23.0</td>\n",
       "      <td>32.0</td>\n",
       "      <td>47.0</td>\n",
       "    </tr>\n",
       "    <tr>\n",
       "      <th>first_downs_gained</th>\n",
       "      <td>65.0</td>\n",
       "      <td>20.676923</td>\n",
       "      <td>4.870535</td>\n",
       "      <td>9.0</td>\n",
       "      <td>17.0</td>\n",
       "      <td>21.0</td>\n",
       "      <td>24.0</td>\n",
       "      <td>33.0</td>\n",
       "    </tr>\n",
       "    <tr>\n",
       "      <th>total_yards_gained</th>\n",
       "      <td>65.0</td>\n",
       "      <td>352.830769</td>\n",
       "      <td>77.791301</td>\n",
       "      <td>180.0</td>\n",
       "      <td>300.0</td>\n",
       "      <td>355.0</td>\n",
       "      <td>398.0</td>\n",
       "      <td>531.0</td>\n",
       "    </tr>\n",
       "    <tr>\n",
       "      <th>pass_yards_gained</th>\n",
       "      <td>65.0</td>\n",
       "      <td>213.276923</td>\n",
       "      <td>61.924982</td>\n",
       "      <td>78.0</td>\n",
       "      <td>171.0</td>\n",
       "      <td>205.0</td>\n",
       "      <td>254.0</td>\n",
       "      <td>355.0</td>\n",
       "    </tr>\n",
       "    <tr>\n",
       "      <th>rush_yards_gained</th>\n",
       "      <td>65.0</td>\n",
       "      <td>139.553846</td>\n",
       "      <td>54.467889</td>\n",
       "      <td>40.0</td>\n",
       "      <td>99.0</td>\n",
       "      <td>138.0</td>\n",
       "      <td>182.0</td>\n",
       "      <td>307.0</td>\n",
       "    </tr>\n",
       "    <tr>\n",
       "      <th>turnovers</th>\n",
       "      <td>65.0</td>\n",
       "      <td>1.323077</td>\n",
       "      <td>1.147112</td>\n",
       "      <td>0.0</td>\n",
       "      <td>0.0</td>\n",
       "      <td>1.0</td>\n",
       "      <td>2.0</td>\n",
       "      <td>4.0</td>\n",
       "    </tr>\n",
       "    <tr>\n",
       "      <th>first_downs_allowed</th>\n",
       "      <td>65.0</td>\n",
       "      <td>20.876923</td>\n",
       "      <td>5.619463</td>\n",
       "      <td>6.0</td>\n",
       "      <td>17.0</td>\n",
       "      <td>20.0</td>\n",
       "      <td>24.0</td>\n",
       "      <td>35.0</td>\n",
       "    </tr>\n",
       "    <tr>\n",
       "      <th>total_yards_allowed</th>\n",
       "      <td>65.0</td>\n",
       "      <td>347.707692</td>\n",
       "      <td>89.621901</td>\n",
       "      <td>47.0</td>\n",
       "      <td>302.0</td>\n",
       "      <td>339.0</td>\n",
       "      <td>397.0</td>\n",
       "      <td>566.0</td>\n",
       "    </tr>\n",
       "    <tr>\n",
       "      <th>pass_yards_allowed</th>\n",
       "      <td>65.0</td>\n",
       "      <td>224.892308</td>\n",
       "      <td>85.946408</td>\n",
       "      <td>1.0</td>\n",
       "      <td>182.0</td>\n",
       "      <td>216.0</td>\n",
       "      <td>268.0</td>\n",
       "      <td>501.0</td>\n",
       "    </tr>\n",
       "    <tr>\n",
       "      <th>rush_yards_allowed</th>\n",
       "      <td>65.0</td>\n",
       "      <td>122.815385</td>\n",
       "      <td>55.849936</td>\n",
       "      <td>36.0</td>\n",
       "      <td>82.0</td>\n",
       "      <td>109.0</td>\n",
       "      <td>168.0</td>\n",
       "      <td>275.0</td>\n",
       "    </tr>\n",
       "    <tr>\n",
       "      <th>turnovers_forced</th>\n",
       "      <td>65.0</td>\n",
       "      <td>1.246154</td>\n",
       "      <td>1.311378</td>\n",
       "      <td>0.0</td>\n",
       "      <td>0.0</td>\n",
       "      <td>1.0</td>\n",
       "      <td>2.0</td>\n",
       "      <td>5.0</td>\n",
       "    </tr>\n",
       "  </tbody>\n",
       "</table>\n",
       "</div>"
      ],
      "text/plain": [
       "                     count        mean        std    min    25%    50%    75%  \\\n",
       "points_scored         65.0   22.615385  10.929736    3.0   14.0   22.0   29.0   \n",
       "points_allowed        65.0   24.123077  11.009240    3.0   16.0   23.0   32.0   \n",
       "first_downs_gained    65.0   20.676923   4.870535    9.0   17.0   21.0   24.0   \n",
       "total_yards_gained    65.0  352.830769  77.791301  180.0  300.0  355.0  398.0   \n",
       "pass_yards_gained     65.0  213.276923  61.924982   78.0  171.0  205.0  254.0   \n",
       "rush_yards_gained     65.0  139.553846  54.467889   40.0   99.0  138.0  182.0   \n",
       "turnovers             65.0    1.323077   1.147112    0.0    0.0    1.0    2.0   \n",
       "first_downs_allowed   65.0   20.876923   5.619463    6.0   17.0   20.0   24.0   \n",
       "total_yards_allowed   65.0  347.707692  89.621901   47.0  302.0  339.0  397.0   \n",
       "pass_yards_allowed    65.0  224.892308  85.946408    1.0  182.0  216.0  268.0   \n",
       "rush_yards_allowed    65.0  122.815385  55.849936   36.0   82.0  109.0  168.0   \n",
       "turnovers_forced      65.0    1.246154   1.311378    0.0    0.0    1.0    2.0   \n",
       "\n",
       "                       max  \n",
       "points_scored         49.0  \n",
       "points_allowed        47.0  \n",
       "first_downs_gained    33.0  \n",
       "total_yards_gained   531.0  \n",
       "pass_yards_gained    355.0  \n",
       "rush_yards_gained    307.0  \n",
       "turnovers              4.0  \n",
       "first_downs_allowed   35.0  \n",
       "total_yards_allowed  566.0  \n",
       "pass_yards_allowed   501.0  \n",
       "rush_yards_allowed   275.0  \n",
       "turnovers_forced       5.0  "
      ]
     },
     "execution_count": 19,
     "metadata": {},
     "output_type": "execute_result"
    }
   ],
   "source": [
    "df.describe().T"
   ]
  },
  {
   "cell_type": "code",
   "execution_count": 20,
   "id": "0b403f3f",
   "metadata": {},
   "outputs": [
    {
     "data": {
      "text/plain": [
       "<AxesSubplot:xlabel='result', ylabel='Count'>"
      ]
     },
     "execution_count": 20,
     "metadata": {},
     "output_type": "execute_result"
    },
    {
     "data": {
      "image/png": "[encoded data removed]",
      "text/plain": [
       "<Figure size 432x288 with 1 Axes>"
      ]
     },
     "metadata": {
      "needs_background": "light"
     },
     "output_type": "display_data"
    }
   ],
   "source": [
    "# how many games have the browns won in their last 65 contests? \n",
    "\n",
    "sns.histplot(data=df, x=\"result\")\n"
   ]
  },
  {
   "cell_type": "code",
   "execution_count": 21,
   "id": "205ab61f",
   "metadata": {},
   "outputs": [
    {
     "data": {
      "text/plain": [
       "<AxesSubplot:xlabel='result', ylabel='count'>"
      ]
     },
     "execution_count": 21,
     "metadata": {},
     "output_type": "execute_result"
    },
    {
     "data": {
      "image/png": "[encoded data removed]",
      "text/plain": [
       "<Figure size 432x288 with 1 Axes>"
      ]
     },
     "metadata": {
      "needs_background": "light"
     },
     "output_type": "display_data"
    }
   ],
   "source": [
    "# count plot \n",
    "sns.countplot(x=df[\"result\"])\n",
    "\n"
   ]
  },
  {
   "cell_type": "markdown",
   "id": "e0f8576e",
   "metadata": {},
   "source": [
    "### takeaways\n",
    "- browns lose more than they win \n",
    "- Baseline model would be browns lose every game and would be right "
   ]
  },
  {
   "cell_type": "code",
   "execution_count": null,
   "id": "4ca14560",
   "metadata": {},
   "outputs": [],
   "source": [
    "# split data, complete exploration of variables "
   ]
  }
 ],
 "metadata": {
  "kernelspec": {
   "display_name": "Python 3 (ipykernel)",
   "language": "python",
   "name": "python3"
  },
  "language_info": {
   "codemirror_mode": {
    "name": "ipython",
    "version": 3
   },
   "file_extension": ".py",
   "mimetype": "text/x-python",
   "name": "python",
   "nbconvert_exporter": "python",
   "pygments_lexer": "ipython3",
   "version": "3.9.12"
  }
 },
 "nbformat": 4,
 "nbformat_minor": 5
}
