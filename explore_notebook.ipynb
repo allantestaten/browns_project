{
 "cells": [
  {
   "cell_type": "code",
   "execution_count": 36,
   "id": "61817f53",
   "metadata": {},
   "outputs": [],
   "source": [
    "import pandas as pd \n",
    "import numpy as np \n",
    "import seaborn as sns\n",
    "import matplotlib as plt \n",
    "from sklearn.model_selection import train_test_split\n",
    "from scipy import stats\n",
    "from sklearn.ensemble import RandomForestClassifier\n",
    "from sklearn.neighbors import KNeighborsClassifier\n",
    "from sklearn.tree import DecisionTreeClassifier, plot_tree, export_text\n",
    "from sklearn.metrics import classification_report, confusion_matrix, plot_confusion_matrix\n"
   ]
  },
  {
   "cell_type": "markdown",
   "id": "80871eb9",
   "metadata": {},
   "source": [
    "## # Data Prep \n",
    "\n",
    "- Gathered browns' most recent schedule and game results data from Pro football referece .com on Dec 21 \n",
    "- Downloaded last 3 full seasons from 2019 to 2021 and partial season for 2022 which only includes first 16 regular season games \n",
    "- Combine games into one excel document \n",
    "- remove bye weeks \n",
    "- Deleted data corresponding to expected points, because this is an engineered feature \n",
    "- Rename columns under categories score, offense and defense and expected points \n",
    "    - tm to points scored, opp to points allowed \n",
    "    - 1st downs gained\n",
    "    - pass yards gained \n",
    "    - rush yards gained \n",
    "    - turnovers \n",
    "    \n",
    "    Defense \n",
    "    - first downs allowed \n",
    "    - total yards allowed \n",
    "    - pass yards allowed \n",
    "    - rush yards allowed \n",
    "    - forced turnovers \n",
    " - Including playoff games in record because goal is to predict browns ability to win a game regardless of whether it is regular season or post season \n",
    " \n",
    "- delete first row of data (score, offense, defense should be removed) \n",
    "- updated dates to reflect year game was played\n"
   ]
  },
  {
   "cell_type": "code",
   "execution_count": 2,
   "id": "3e912c2d",
   "metadata": {},
   "outputs": [],
   "source": [
    "df = pd.read_excel('consolidated record.xls')"
   ]
  },
  {
   "cell_type": "code",
   "execution_count": 3,
   "id": "9bf792a7",
   "metadata": {},
   "outputs": [
    {
     "name": "stdout",
     "output_type": "stream",
     "text": [
      "<class 'pandas.core.frame.DataFrame'>\n",
      "RangeIndex: 65 entries, 0 to 64\n",
      "Data columns (total 22 columns):\n",
      " #   Column      Non-Null Count  Dtype         \n",
      "---  ------      --------------  -----         \n",
      " 0   Week        65 non-null     int64         \n",
      " 1   Day         65 non-null     object        \n",
      " 2   Date        65 non-null     datetime64[ns]\n",
      " 3   Unnamed: 3  65 non-null     object        \n",
      " 4   Unnamed: 4  65 non-null     object        \n",
      " 5   Unnamed: 5  65 non-null     object        \n",
      " 6   OT          1 non-null      object        \n",
      " 7   Rec         65 non-null     object        \n",
      " 8   Location    33 non-null     object        \n",
      " 9   Opp         65 non-null     object        \n",
      " 10  tm          65 non-null     int64         \n",
      " 11  Opp.1       65 non-null     int64         \n",
      " 12  1stD o      65 non-null     int64         \n",
      " 13  TotYd o     65 non-null     int64         \n",
      " 14  PassY o     65 non-null     int64         \n",
      " 15  RushY o     65 non-null     int64         \n",
      " 16  TO o        47 non-null     float64       \n",
      " 17  1stD d      65 non-null     int64         \n",
      " 18  TotYd d     65 non-null     int64         \n",
      " 19  PassY d     65 non-null     int64         \n",
      " 20  RushY d     65 non-null     int64         \n",
      " 21  TO d        43 non-null     float64       \n",
      "dtypes: datetime64[ns](1), float64(2), int64(11), object(8)\n",
      "memory usage: 11.3+ KB\n"
     ]
    }
   ],
   "source": [
    "df.info()"
   ]
  },
  {
   "cell_type": "code",
   "execution_count": 4,
   "id": "5e404263",
   "metadata": {},
   "outputs": [],
   "source": [
    "# drop columns don't want: OT, Rec, Week, Unnamed: 3, 4\n",
    "# dropping columns \n",
    "df = df.drop(columns= ['Week','Day','Date','Unnamed: 3','Unnamed: 4','OT','Rec'])\n",
    "\n"
   ]
  },
  {
   "cell_type": "code",
   "execution_count": 5,
   "id": "228b2eb5",
   "metadata": {},
   "outputs": [],
   "source": [
    " df.columns = [column.replace(' ','_').lower() for column in df]"
   ]
  },
  {
   "cell_type": "code",
   "execution_count": 6,
   "id": "b99c1899",
   "metadata": {},
   "outputs": [
    {
     "name": "stdout",
     "output_type": "stream",
     "text": [
      "<class 'pandas.core.frame.DataFrame'>\n",
      "RangeIndex: 65 entries, 0 to 64\n",
      "Data columns (total 15 columns):\n",
      " #   Column      Non-Null Count  Dtype  \n",
      "---  ------      --------------  -----  \n",
      " 0   unnamed:_5  65 non-null     object \n",
      " 1   location    33 non-null     object \n",
      " 2   opp         65 non-null     object \n",
      " 3   tm          65 non-null     int64  \n",
      " 4   opp.1       65 non-null     int64  \n",
      " 5   1std_o      65 non-null     int64  \n",
      " 6   totyd_o_    65 non-null     int64  \n",
      " 7   passy_o_    65 non-null     int64  \n",
      " 8   rushy_o_    65 non-null     int64  \n",
      " 9   to_o_       47 non-null     float64\n",
      " 10  1std_d_     65 non-null     int64  \n",
      " 11  totyd_d_    65 non-null     int64  \n",
      " 12  passy_d_    65 non-null     int64  \n",
      " 13  rushy_d_    65 non-null     int64  \n",
      " 14  to_d_       43 non-null     float64\n",
      "dtypes: float64(2), int64(10), object(3)\n",
      "memory usage: 7.7+ KB\n"
     ]
    }
   ],
   "source": [
    "df.info()"
   ]
  },
  {
   "cell_type": "code",
   "execution_count": 7,
   "id": "800c1a7c",
   "metadata": {},
   "outputs": [],
   "source": [
    "# renaming column names to more readable format\n",
    "df = df.rename(columns = {'unnamed:_5':'result', 'opp':'opponent',\n",
    "                              'opp.1':'points_allowed', \n",
    "                              'tm':'points_scored',\n",
    "                              '1std_o':'first_downs_gained', 'totyd_o_':'total_yards_gained',\n",
    "                              'passy_o_':'pass_yards_gained',\n",
    "                              'rushy_o_':'rush_yards_gained','to_o_':'turnovers','1std_d_':'first_downs_allowed',\n",
    "                              'totyd_d_':'total_yards_allowed',\n",
    "                              'passy_d_':'pass_yards_allowed','rushy_d_':'rush_yards_allowed',\n",
    "                              'to_d_':'turnovers_forced',})"
   ]
  },
  {
   "cell_type": "code",
   "execution_count": 8,
   "id": "72a156ce",
   "metadata": {},
   "outputs": [
    {
     "name": "stdout",
     "output_type": "stream",
     "text": [
      "<class 'pandas.core.frame.DataFrame'>\n",
      "RangeIndex: 65 entries, 0 to 64\n",
      "Data columns (total 15 columns):\n",
      " #   Column               Non-Null Count  Dtype  \n",
      "---  ------               --------------  -----  \n",
      " 0   result               65 non-null     object \n",
      " 1   location             33 non-null     object \n",
      " 2   opponent             65 non-null     object \n",
      " 3   points_scored        65 non-null     int64  \n",
      " 4   points_allowed       65 non-null     int64  \n",
      " 5   first_downs_gained   65 non-null     int64  \n",
      " 6   total_yards_gained   65 non-null     int64  \n",
      " 7   pass_yards_gained    65 non-null     int64  \n",
      " 8   rush_yards_gained    65 non-null     int64  \n",
      " 9   turnovers            47 non-null     float64\n",
      " 10  first_downs_allowed  65 non-null     int64  \n",
      " 11  total_yards_allowed  65 non-null     int64  \n",
      " 12  pass_yards_allowed   65 non-null     int64  \n",
      " 13  rush_yards_allowed   65 non-null     int64  \n",
      " 14  turnovers_forced     43 non-null     float64\n",
      "dtypes: float64(2), int64(10), object(3)\n",
      "memory usage: 7.7+ KB\n"
     ]
    }
   ],
   "source": [
    "# cleaned column names\n",
    "df.info()"
   ]
  },
  {
   "cell_type": "markdown",
   "id": "5a925458",
   "metadata": {},
   "source": [
    "## Address nulls \n",
    "- location \n",
    "- turnovers \n",
    "- turnovers forced \n",
    "\n",
    "null in turnovervs and turnovers forced can be replaced with 0 \n",
    "null for location means home game "
   ]
  },
  {
   "cell_type": "code",
   "execution_count": 9,
   "id": "bad9c5d8",
   "metadata": {},
   "outputs": [],
   "source": [
    "# fill all nans with zero value \n",
    "df = df.fillna(0)"
   ]
  },
  {
   "cell_type": "code",
   "execution_count": 10,
   "id": "c04cbd51",
   "metadata": {},
   "outputs": [
    {
     "name": "stdout",
     "output_type": "stream",
     "text": [
      "<class 'pandas.core.frame.DataFrame'>\n",
      "RangeIndex: 65 entries, 0 to 64\n",
      "Data columns (total 15 columns):\n",
      " #   Column               Non-Null Count  Dtype  \n",
      "---  ------               --------------  -----  \n",
      " 0   result               65 non-null     object \n",
      " 1   location             65 non-null     object \n",
      " 2   opponent             65 non-null     object \n",
      " 3   points_scored        65 non-null     int64  \n",
      " 4   points_allowed       65 non-null     int64  \n",
      " 5   first_downs_gained   65 non-null     int64  \n",
      " 6   total_yards_gained   65 non-null     int64  \n",
      " 7   pass_yards_gained    65 non-null     int64  \n",
      " 8   rush_yards_gained    65 non-null     int64  \n",
      " 9   turnovers            65 non-null     float64\n",
      " 10  first_downs_allowed  65 non-null     int64  \n",
      " 11  total_yards_allowed  65 non-null     int64  \n",
      " 12  pass_yards_allowed   65 non-null     int64  \n",
      " 13  rush_yards_allowed   65 non-null     int64  \n",
      " 14  turnovers_forced     65 non-null     float64\n",
      "dtypes: float64(2), int64(10), object(3)\n",
      "memory usage: 7.7+ KB\n"
     ]
    }
   ],
   "source": [
    "# no more nulls \n",
    "df.info()"
   ]
  },
  {
   "cell_type": "code",
   "execution_count": 11,
   "id": "1e2ee1db",
   "metadata": {},
   "outputs": [],
   "source": [
    "# replace zeros in location with word home and replace @ symbol with away \n",
    "\n",
    "\n",
    "df['location'] = df['location'].replace([0, '@'], ['home', 'away',])\n"
   ]
  },
  {
   "cell_type": "code",
   "execution_count": 12,
   "id": "68cb2f66",
   "metadata": {},
   "outputs": [
    {
     "data": {
      "text/plain": [
       "(65, 15)"
      ]
     },
     "execution_count": 12,
     "metadata": {},
     "output_type": "execute_result"
    }
   ],
   "source": [
    "df.shape\n",
    "#65 observations with 15 columns "
   ]
  },
  {
   "cell_type": "code",
   "execution_count": 13,
   "id": "6721a083",
   "metadata": {},
   "outputs": [
    {
     "data": {
      "text/html": [
       "<div>\n",
       "<style scoped>\n",
       "    .dataframe tbody tr th:only-of-type {\n",
       "        vertical-align: middle;\n",
       "    }\n",
       "\n",
       "    .dataframe tbody tr th {\n",
       "        vertical-align: top;\n",
       "    }\n",
       "\n",
       "    .dataframe thead th {\n",
       "        text-align: right;\n",
       "    }\n",
       "</style>\n",
       "<table border=\"1\" class=\"dataframe\">\n",
       "  <thead>\n",
       "    <tr style=\"text-align: right;\">\n",
       "      <th></th>\n",
       "      <th>count</th>\n",
       "      <th>mean</th>\n",
       "      <th>std</th>\n",
       "      <th>min</th>\n",
       "      <th>25%</th>\n",
       "      <th>50%</th>\n",
       "      <th>75%</th>\n",
       "      <th>max</th>\n",
       "    </tr>\n",
       "  </thead>\n",
       "  <tbody>\n",
       "    <tr>\n",
       "      <th>points_scored</th>\n",
       "      <td>65.0</td>\n",
       "      <td>22.615385</td>\n",
       "      <td>10.929736</td>\n",
       "      <td>3.0</td>\n",
       "      <td>14.0</td>\n",
       "      <td>22.0</td>\n",
       "      <td>29.0</td>\n",
       "      <td>49.0</td>\n",
       "    </tr>\n",
       "    <tr>\n",
       "      <th>points_allowed</th>\n",
       "      <td>65.0</td>\n",
       "      <td>24.123077</td>\n",
       "      <td>11.009240</td>\n",
       "      <td>3.0</td>\n",
       "      <td>16.0</td>\n",
       "      <td>23.0</td>\n",
       "      <td>32.0</td>\n",
       "      <td>47.0</td>\n",
       "    </tr>\n",
       "    <tr>\n",
       "      <th>first_downs_gained</th>\n",
       "      <td>65.0</td>\n",
       "      <td>20.676923</td>\n",
       "      <td>4.870535</td>\n",
       "      <td>9.0</td>\n",
       "      <td>17.0</td>\n",
       "      <td>21.0</td>\n",
       "      <td>24.0</td>\n",
       "      <td>33.0</td>\n",
       "    </tr>\n",
       "    <tr>\n",
       "      <th>total_yards_gained</th>\n",
       "      <td>65.0</td>\n",
       "      <td>352.830769</td>\n",
       "      <td>77.791301</td>\n",
       "      <td>180.0</td>\n",
       "      <td>300.0</td>\n",
       "      <td>355.0</td>\n",
       "      <td>398.0</td>\n",
       "      <td>531.0</td>\n",
       "    </tr>\n",
       "    <tr>\n",
       "      <th>pass_yards_gained</th>\n",
       "      <td>65.0</td>\n",
       "      <td>213.276923</td>\n",
       "      <td>61.924982</td>\n",
       "      <td>78.0</td>\n",
       "      <td>171.0</td>\n",
       "      <td>205.0</td>\n",
       "      <td>254.0</td>\n",
       "      <td>355.0</td>\n",
       "    </tr>\n",
       "    <tr>\n",
       "      <th>rush_yards_gained</th>\n",
       "      <td>65.0</td>\n",
       "      <td>139.553846</td>\n",
       "      <td>54.467889</td>\n",
       "      <td>40.0</td>\n",
       "      <td>99.0</td>\n",
       "      <td>138.0</td>\n",
       "      <td>182.0</td>\n",
       "      <td>307.0</td>\n",
       "    </tr>\n",
       "    <tr>\n",
       "      <th>turnovers</th>\n",
       "      <td>65.0</td>\n",
       "      <td>1.323077</td>\n",
       "      <td>1.147112</td>\n",
       "      <td>0.0</td>\n",
       "      <td>0.0</td>\n",
       "      <td>1.0</td>\n",
       "      <td>2.0</td>\n",
       "      <td>4.0</td>\n",
       "    </tr>\n",
       "    <tr>\n",
       "      <th>first_downs_allowed</th>\n",
       "      <td>65.0</td>\n",
       "      <td>20.876923</td>\n",
       "      <td>5.619463</td>\n",
       "      <td>6.0</td>\n",
       "      <td>17.0</td>\n",
       "      <td>20.0</td>\n",
       "      <td>24.0</td>\n",
       "      <td>35.0</td>\n",
       "    </tr>\n",
       "    <tr>\n",
       "      <th>total_yards_allowed</th>\n",
       "      <td>65.0</td>\n",
       "      <td>347.707692</td>\n",
       "      <td>89.621901</td>\n",
       "      <td>47.0</td>\n",
       "      <td>302.0</td>\n",
       "      <td>339.0</td>\n",
       "      <td>397.0</td>\n",
       "      <td>566.0</td>\n",
       "    </tr>\n",
       "    <tr>\n",
       "      <th>pass_yards_allowed</th>\n",
       "      <td>65.0</td>\n",
       "      <td>224.892308</td>\n",
       "      <td>85.946408</td>\n",
       "      <td>1.0</td>\n",
       "      <td>182.0</td>\n",
       "      <td>216.0</td>\n",
       "      <td>268.0</td>\n",
       "      <td>501.0</td>\n",
       "    </tr>\n",
       "    <tr>\n",
       "      <th>rush_yards_allowed</th>\n",
       "      <td>65.0</td>\n",
       "      <td>122.815385</td>\n",
       "      <td>55.849936</td>\n",
       "      <td>36.0</td>\n",
       "      <td>82.0</td>\n",
       "      <td>109.0</td>\n",
       "      <td>168.0</td>\n",
       "      <td>275.0</td>\n",
       "    </tr>\n",
       "    <tr>\n",
       "      <th>turnovers_forced</th>\n",
       "      <td>65.0</td>\n",
       "      <td>1.246154</td>\n",
       "      <td>1.311378</td>\n",
       "      <td>0.0</td>\n",
       "      <td>0.0</td>\n",
       "      <td>1.0</td>\n",
       "      <td>2.0</td>\n",
       "      <td>5.0</td>\n",
       "    </tr>\n",
       "  </tbody>\n",
       "</table>\n",
       "</div>"
      ],
      "text/plain": [
       "                     count        mean        std    min    25%    50%    75%  \\\n",
       "points_scored         65.0   22.615385  10.929736    3.0   14.0   22.0   29.0   \n",
       "points_allowed        65.0   24.123077  11.009240    3.0   16.0   23.0   32.0   \n",
       "first_downs_gained    65.0   20.676923   4.870535    9.0   17.0   21.0   24.0   \n",
       "total_yards_gained    65.0  352.830769  77.791301  180.0  300.0  355.0  398.0   \n",
       "pass_yards_gained     65.0  213.276923  61.924982   78.0  171.0  205.0  254.0   \n",
       "rush_yards_gained     65.0  139.553846  54.467889   40.0   99.0  138.0  182.0   \n",
       "turnovers             65.0    1.323077   1.147112    0.0    0.0    1.0    2.0   \n",
       "first_downs_allowed   65.0   20.876923   5.619463    6.0   17.0   20.0   24.0   \n",
       "total_yards_allowed   65.0  347.707692  89.621901   47.0  302.0  339.0  397.0   \n",
       "pass_yards_allowed    65.0  224.892308  85.946408    1.0  182.0  216.0  268.0   \n",
       "rush_yards_allowed    65.0  122.815385  55.849936   36.0   82.0  109.0  168.0   \n",
       "turnovers_forced      65.0    1.246154   1.311378    0.0    0.0    1.0    2.0   \n",
       "\n",
       "                       max  \n",
       "points_scored         49.0  \n",
       "points_allowed        47.0  \n",
       "first_downs_gained    33.0  \n",
       "total_yards_gained   531.0  \n",
       "pass_yards_gained    355.0  \n",
       "rush_yards_gained    307.0  \n",
       "turnovers              4.0  \n",
       "first_downs_allowed   35.0  \n",
       "total_yards_allowed  566.0  \n",
       "pass_yards_allowed   501.0  \n",
       "rush_yards_allowed   275.0  \n",
       "turnovers_forced       5.0  "
      ]
     },
     "execution_count": 13,
     "metadata": {},
     "output_type": "execute_result"
    }
   ],
   "source": [
    "df.describe().T"
   ]
  },
  {
   "cell_type": "code",
   "execution_count": 32,
   "id": "b5c150d6",
   "metadata": {},
   "outputs": [
    {
     "data": {
      "text/plain": [
       "L    0.507692\n",
       "W    0.492308\n",
       "Name: result, dtype: float64"
      ]
     },
     "execution_count": 32,
     "metadata": {},
     "output_type": "execute_result"
    }
   ],
   "source": [
    "# Baseline will be assuming browns lose every game and this will result in a 51% accuracy \n",
    "df.result.value_counts(normalize=True)"
   ]
  },
  {
   "cell_type": "code",
   "execution_count": 34,
   "id": "db4aac34",
   "metadata": {},
   "outputs": [
    {
     "data": {
      "text/plain": [
       "L    33\n",
       "W    32\n",
       "Name: result, dtype: int64"
      ]
     },
     "execution_count": 34,
     "metadata": {},
     "output_type": "execute_result"
    }
   ],
   "source": [
    "# Total record last 3.5 seasons \n",
    "df.result.value_counts()"
   ]
  },
  {
   "cell_type": "markdown",
   "id": "174bd99a",
   "metadata": {},
   "source": [
    "### takeaways\n",
    "- browns lose more than they win \n",
    "- Baseline model would be browns lose every game and would be right "
   ]
  },
  {
   "cell_type": "code",
   "execution_count": 18,
   "id": "5b53edab",
   "metadata": {},
   "outputs": [
    {
     "name": "stdout",
     "output_type": "stream",
     "text": [
      "<class 'pandas.core.frame.DataFrame'>\n",
      "RangeIndex: 65 entries, 0 to 64\n",
      "Data columns (total 15 columns):\n",
      " #   Column               Non-Null Count  Dtype  \n",
      "---  ------               --------------  -----  \n",
      " 0   result               65 non-null     object \n",
      " 1   location             65 non-null     object \n",
      " 2   opponent             65 non-null     object \n",
      " 3   points_scored        65 non-null     int64  \n",
      " 4   points_allowed       65 non-null     int64  \n",
      " 5   first_downs_gained   65 non-null     int64  \n",
      " 6   total_yards_gained   65 non-null     int64  \n",
      " 7   pass_yards_gained    65 non-null     int64  \n",
      " 8   rush_yards_gained    65 non-null     int64  \n",
      " 9   turnovers            65 non-null     float64\n",
      " 10  first_downs_allowed  65 non-null     int64  \n",
      " 11  total_yards_allowed  65 non-null     int64  \n",
      " 12  pass_yards_allowed   65 non-null     int64  \n",
      " 13  rush_yards_allowed   65 non-null     int64  \n",
      " 14  turnovers_forced     65 non-null     float64\n",
      "dtypes: float64(2), int64(10), object(3)\n",
      "memory usage: 7.7+ KB\n"
     ]
    }
   ],
   "source": [
    "df.info()"
   ]
  },
  {
   "cell_type": "code",
   "execution_count": 20,
   "id": "34b7cb89",
   "metadata": {},
   "outputs": [
    {
     "data": {
      "text/plain": [
       "result                 object\n",
       "location               object\n",
       "opponent               object\n",
       "points_scored           int64\n",
       "points_allowed          int64\n",
       "first_downs_gained      int64\n",
       "total_yards_gained      int64\n",
       "pass_yards_gained       int64\n",
       "rush_yards_gained       int64\n",
       "turnovers               int64\n",
       "first_downs_allowed     int64\n",
       "total_yards_allowed     int64\n",
       "pass_yards_allowed      int64\n",
       "rush_yards_allowed      int64\n",
       "turnovers_forced        int64\n",
       "dtype: object"
      ]
     },
     "execution_count": 20,
     "metadata": {},
     "output_type": "execute_result"
    }
   ],
   "source": [
    "# Converting data types to integers \n",
    "df.astype({'turnovers':'int64','turnovers_forced':'int64'}).dtypes"
   ]
  },
  {
   "cell_type": "code",
   "execution_count": null,
   "id": "2e2ea61a",
   "metadata": {},
   "outputs": [],
   "source": [
    "# split data, complete exploration of variables, come up with statistical questions "
   ]
  },
  {
   "cell_type": "code",
   "execution_count": 23,
   "id": "d816a730",
   "metadata": {},
   "outputs": [],
   "source": [
    "# split data \n",
    "\n",
    "# splitting data into test and validate samples \n",
    "train_validate, test = train_test_split(df, test_size=.2, \n",
    "                                        random_state=123, \n",
    "                                        stratify=df.result)\n",
    "# splitting data into train and validate samples \n",
    "train, validate = train_test_split(train_validate, test_size=.3, \n",
    "                                   random_state=123, \n",
    "                                   stratify=train_validate.result)"
   ]
  },
  {
   "cell_type": "code",
   "execution_count": 25,
   "id": "52a83bab",
   "metadata": {},
   "outputs": [
    {
     "data": {
      "text/plain": [
       "(36, 15)"
      ]
     },
     "execution_count": 25,
     "metadata": {},
     "output_type": "execute_result"
    }
   ],
   "source": [
    "train.shape"
   ]
  },
  {
   "cell_type": "code",
   "execution_count": 26,
   "id": "4138e656",
   "metadata": {},
   "outputs": [
    {
     "data": {
      "text/plain": [
       "(16, 15)"
      ]
     },
     "execution_count": 26,
     "metadata": {},
     "output_type": "execute_result"
    }
   ],
   "source": [
    "validate.shape"
   ]
  },
  {
   "cell_type": "code",
   "execution_count": 27,
   "id": "13e21628",
   "metadata": {},
   "outputs": [
    {
     "data": {
      "text/plain": [
       "(13, 15)"
      ]
     },
     "execution_count": 27,
     "metadata": {},
     "output_type": "execute_result"
    }
   ],
   "source": [
    "test.shape"
   ]
  },
  {
   "cell_type": "code",
   "execution_count": 30,
   "id": "9398e45b",
   "metadata": {
    "collapsed": true
   },
   "outputs": [
    {
     "data": {
      "text/html": [
       "<div>\n",
       "<style scoped>\n",
       "    .dataframe tbody tr th:only-of-type {\n",
       "        vertical-align: middle;\n",
       "    }\n",
       "\n",
       "    .dataframe tbody tr th {\n",
       "        vertical-align: top;\n",
       "    }\n",
       "\n",
       "    .dataframe thead th {\n",
       "        text-align: right;\n",
       "    }\n",
       "</style>\n",
       "<table border=\"1\" class=\"dataframe\">\n",
       "  <thead>\n",
       "    <tr style=\"text-align: right;\">\n",
       "      <th></th>\n",
       "      <th>result</th>\n",
       "      <th>location</th>\n",
       "      <th>opponent</th>\n",
       "      <th>points_scored</th>\n",
       "      <th>points_allowed</th>\n",
       "      <th>first_downs_gained</th>\n",
       "      <th>total_yards_gained</th>\n",
       "      <th>pass_yards_gained</th>\n",
       "      <th>rush_yards_gained</th>\n",
       "      <th>turnovers</th>\n",
       "      <th>first_downs_allowed</th>\n",
       "      <th>total_yards_allowed</th>\n",
       "      <th>pass_yards_allowed</th>\n",
       "      <th>rush_yards_allowed</th>\n",
       "      <th>turnovers_forced</th>\n",
       "    </tr>\n",
       "  </thead>\n",
       "  <tbody>\n",
       "    <tr>\n",
       "      <th>43</th>\n",
       "      <td>L</td>\n",
       "      <td>away</td>\n",
       "      <td>New England Patriots</td>\n",
       "      <td>7</td>\n",
       "      <td>45</td>\n",
       "      <td>17</td>\n",
       "      <td>217</td>\n",
       "      <td>118</td>\n",
       "      <td>99</td>\n",
       "      <td>1.0</td>\n",
       "      <td>30</td>\n",
       "      <td>452</td>\n",
       "      <td>268</td>\n",
       "      <td>184</td>\n",
       "      <td>0.0</td>\n",
       "    </tr>\n",
       "    <tr>\n",
       "      <th>35</th>\n",
       "      <td>W</td>\n",
       "      <td>home</td>\n",
       "      <td>Houston Texans</td>\n",
       "      <td>31</td>\n",
       "      <td>21</td>\n",
       "      <td>22</td>\n",
       "      <td>355</td>\n",
       "      <td>199</td>\n",
       "      <td>156</td>\n",
       "      <td>2.0</td>\n",
       "      <td>17</td>\n",
       "      <td>302</td>\n",
       "      <td>220</td>\n",
       "      <td>82</td>\n",
       "      <td>2.0</td>\n",
       "    </tr>\n",
       "    <tr>\n",
       "      <th>55</th>\n",
       "      <td>L</td>\n",
       "      <td>home</td>\n",
       "      <td>Los Angeles Chargers</td>\n",
       "      <td>28</td>\n",
       "      <td>30</td>\n",
       "      <td>27</td>\n",
       "      <td>443</td>\n",
       "      <td>230</td>\n",
       "      <td>213</td>\n",
       "      <td>1.0</td>\n",
       "      <td>26</td>\n",
       "      <td>465</td>\n",
       "      <td>227</td>\n",
       "      <td>238</td>\n",
       "      <td>0.0</td>\n",
       "    </tr>\n",
       "    <tr>\n",
       "      <th>0</th>\n",
       "      <td>L</td>\n",
       "      <td>home</td>\n",
       "      <td>Tennessee Titans</td>\n",
       "      <td>13</td>\n",
       "      <td>43</td>\n",
       "      <td>19</td>\n",
       "      <td>346</td>\n",
       "      <td>244</td>\n",
       "      <td>102</td>\n",
       "      <td>3.0</td>\n",
       "      <td>21</td>\n",
       "      <td>339</td>\n",
       "      <td>216</td>\n",
       "      <td>123</td>\n",
       "      <td>0.0</td>\n",
       "    </tr>\n",
       "    <tr>\n",
       "      <th>26</th>\n",
       "      <td>W</td>\n",
       "      <td>away</td>\n",
       "      <td>Jacksonville Jaguars</td>\n",
       "      <td>27</td>\n",
       "      <td>25</td>\n",
       "      <td>25</td>\n",
       "      <td>459</td>\n",
       "      <td>252</td>\n",
       "      <td>207</td>\n",
       "      <td>1.0</td>\n",
       "      <td>22</td>\n",
       "      <td>375</td>\n",
       "      <td>235</td>\n",
       "      <td>140</td>\n",
       "      <td>0.0</td>\n",
       "    </tr>\n",
       "    <tr>\n",
       "      <th>45</th>\n",
       "      <td>L</td>\n",
       "      <td>away</td>\n",
       "      <td>Baltimore Ravens</td>\n",
       "      <td>10</td>\n",
       "      <td>16</td>\n",
       "      <td>14</td>\n",
       "      <td>262</td>\n",
       "      <td>222</td>\n",
       "      <td>40</td>\n",
       "      <td>2.0</td>\n",
       "      <td>22</td>\n",
       "      <td>303</td>\n",
       "      <td>155</td>\n",
       "      <td>148</td>\n",
       "      <td>4.0</td>\n",
       "    </tr>\n",
       "    <tr>\n",
       "      <th>44</th>\n",
       "      <td>W</td>\n",
       "      <td>home</td>\n",
       "      <td>Detroit Lions</td>\n",
       "      <td>13</td>\n",
       "      <td>10</td>\n",
       "      <td>22</td>\n",
       "      <td>349</td>\n",
       "      <td>165</td>\n",
       "      <td>184</td>\n",
       "      <td>2.0</td>\n",
       "      <td>12</td>\n",
       "      <td>245</td>\n",
       "      <td>77</td>\n",
       "      <td>168</td>\n",
       "      <td>2.0</td>\n",
       "    </tr>\n",
       "    <tr>\n",
       "      <th>15</th>\n",
       "      <td>L</td>\n",
       "      <td>away</td>\n",
       "      <td>Cincinnati Bengals</td>\n",
       "      <td>23</td>\n",
       "      <td>33</td>\n",
       "      <td>15</td>\n",
       "      <td>313</td>\n",
       "      <td>239</td>\n",
       "      <td>74</td>\n",
       "      <td>3.0</td>\n",
       "      <td>22</td>\n",
       "      <td>361</td>\n",
       "      <td>182</td>\n",
       "      <td>179</td>\n",
       "      <td>1.0</td>\n",
       "    </tr>\n",
       "    <tr>\n",
       "      <th>27</th>\n",
       "      <td>W</td>\n",
       "      <td>away</td>\n",
       "      <td>Tennessee Titans</td>\n",
       "      <td>41</td>\n",
       "      <td>35</td>\n",
       "      <td>26</td>\n",
       "      <td>458</td>\n",
       "      <td>340</td>\n",
       "      <td>118</td>\n",
       "      <td>1.0</td>\n",
       "      <td>25</td>\n",
       "      <td>431</td>\n",
       "      <td>369</td>\n",
       "      <td>62</td>\n",
       "      <td>3.0</td>\n",
       "    </tr>\n",
       "    <tr>\n",
       "      <th>24</th>\n",
       "      <td>W</td>\n",
       "      <td>home</td>\n",
       "      <td>Houston Texans</td>\n",
       "      <td>10</td>\n",
       "      <td>7</td>\n",
       "      <td>20</td>\n",
       "      <td>356</td>\n",
       "      <td>125</td>\n",
       "      <td>231</td>\n",
       "      <td>0.0</td>\n",
       "      <td>16</td>\n",
       "      <td>243</td>\n",
       "      <td>153</td>\n",
       "      <td>90</td>\n",
       "      <td>0.0</td>\n",
       "    </tr>\n",
       "    <tr>\n",
       "      <th>60</th>\n",
       "      <td>L</td>\n",
       "      <td>away</td>\n",
       "      <td>Buffalo Bills</td>\n",
       "      <td>23</td>\n",
       "      <td>31</td>\n",
       "      <td>27</td>\n",
       "      <td>396</td>\n",
       "      <td>316</td>\n",
       "      <td>80</td>\n",
       "      <td>1.0</td>\n",
       "      <td>22</td>\n",
       "      <td>357</td>\n",
       "      <td>186</td>\n",
       "      <td>171</td>\n",
       "      <td>0.0</td>\n",
       "    </tr>\n",
       "    <tr>\n",
       "      <th>34</th>\n",
       "      <td>L</td>\n",
       "      <td>away</td>\n",
       "      <td>Kansas City Chiefs</td>\n",
       "      <td>29</td>\n",
       "      <td>33</td>\n",
       "      <td>24</td>\n",
       "      <td>457</td>\n",
       "      <td>304</td>\n",
       "      <td>153</td>\n",
       "      <td>2.0</td>\n",
       "      <td>21</td>\n",
       "      <td>397</td>\n",
       "      <td>324</td>\n",
       "      <td>73</td>\n",
       "      <td>0.0</td>\n",
       "    </tr>\n",
       "    <tr>\n",
       "      <th>39</th>\n",
       "      <td>L</td>\n",
       "      <td>home</td>\n",
       "      <td>Arizona Cardinals</td>\n",
       "      <td>14</td>\n",
       "      <td>37</td>\n",
       "      <td>16</td>\n",
       "      <td>290</td>\n",
       "      <td>217</td>\n",
       "      <td>73</td>\n",
       "      <td>3.0</td>\n",
       "      <td>24</td>\n",
       "      <td>352</td>\n",
       "      <td>208</td>\n",
       "      <td>144</td>\n",
       "      <td>0.0</td>\n",
       "    </tr>\n",
       "    <tr>\n",
       "      <th>3</th>\n",
       "      <td>W</td>\n",
       "      <td>away</td>\n",
       "      <td>Baltimore Ravens</td>\n",
       "      <td>40</td>\n",
       "      <td>25</td>\n",
       "      <td>22</td>\n",
       "      <td>530</td>\n",
       "      <td>337</td>\n",
       "      <td>193</td>\n",
       "      <td>1.0</td>\n",
       "      <td>24</td>\n",
       "      <td>395</td>\n",
       "      <td>222</td>\n",
       "      <td>173</td>\n",
       "      <td>3.0</td>\n",
       "    </tr>\n",
       "    <tr>\n",
       "      <th>62</th>\n",
       "      <td>W</td>\n",
       "      <td>away</td>\n",
       "      <td>Houston Texans</td>\n",
       "      <td>27</td>\n",
       "      <td>14</td>\n",
       "      <td>14</td>\n",
       "      <td>304</td>\n",
       "      <td>130</td>\n",
       "      <td>174</td>\n",
       "      <td>2.0</td>\n",
       "      <td>16</td>\n",
       "      <td>283</td>\n",
       "      <td>201</td>\n",
       "      <td>82</td>\n",
       "      <td>4.0</td>\n",
       "    </tr>\n",
       "    <tr>\n",
       "      <th>47</th>\n",
       "      <td>L</td>\n",
       "      <td>home</td>\n",
       "      <td>Las Vegas Raiders</td>\n",
       "      <td>14</td>\n",
       "      <td>16</td>\n",
       "      <td>13</td>\n",
       "      <td>236</td>\n",
       "      <td>147</td>\n",
       "      <td>89</td>\n",
       "      <td>0.0</td>\n",
       "      <td>20</td>\n",
       "      <td>328</td>\n",
       "      <td>230</td>\n",
       "      <td>98</td>\n",
       "      <td>2.0</td>\n",
       "    </tr>\n",
       "    <tr>\n",
       "      <th>19</th>\n",
       "      <td>W</td>\n",
       "      <td>away</td>\n",
       "      <td>Dallas Cowboys</td>\n",
       "      <td>49</td>\n",
       "      <td>38</td>\n",
       "      <td>33</td>\n",
       "      <td>508</td>\n",
       "      <td>201</td>\n",
       "      <td>307</td>\n",
       "      <td>0.0</td>\n",
       "      <td>35</td>\n",
       "      <td>566</td>\n",
       "      <td>481</td>\n",
       "      <td>85</td>\n",
       "      <td>3.0</td>\n",
       "    </tr>\n",
       "    <tr>\n",
       "      <th>42</th>\n",
       "      <td>W</td>\n",
       "      <td>away</td>\n",
       "      <td>Cincinnati Bengals</td>\n",
       "      <td>41</td>\n",
       "      <td>16</td>\n",
       "      <td>14</td>\n",
       "      <td>361</td>\n",
       "      <td>208</td>\n",
       "      <td>153</td>\n",
       "      <td>0.0</td>\n",
       "      <td>25</td>\n",
       "      <td>348</td>\n",
       "      <td>263</td>\n",
       "      <td>85</td>\n",
       "      <td>3.0</td>\n",
       "    </tr>\n",
       "    <tr>\n",
       "      <th>49</th>\n",
       "      <td>L</td>\n",
       "      <td>away</td>\n",
       "      <td>Pittsburgh Steelers</td>\n",
       "      <td>14</td>\n",
       "      <td>26</td>\n",
       "      <td>15</td>\n",
       "      <td>232</td>\n",
       "      <td>139</td>\n",
       "      <td>93</td>\n",
       "      <td>2.0</td>\n",
       "      <td>20</td>\n",
       "      <td>299</td>\n",
       "      <td>109</td>\n",
       "      <td>190</td>\n",
       "      <td>1.0</td>\n",
       "    </tr>\n",
       "    <tr>\n",
       "      <th>48</th>\n",
       "      <td>L</td>\n",
       "      <td>away</td>\n",
       "      <td>Green Bay Packers</td>\n",
       "      <td>22</td>\n",
       "      <td>24</td>\n",
       "      <td>28</td>\n",
       "      <td>408</td>\n",
       "      <td>189</td>\n",
       "      <td>219</td>\n",
       "      <td>4.0</td>\n",
       "      <td>19</td>\n",
       "      <td>311</td>\n",
       "      <td>202</td>\n",
       "      <td>109</td>\n",
       "      <td>0.0</td>\n",
       "    </tr>\n",
       "    <tr>\n",
       "      <th>64</th>\n",
       "      <td>W</td>\n",
       "      <td>home</td>\n",
       "      <td>Baltimore Ravens</td>\n",
       "      <td>13</td>\n",
       "      <td>3</td>\n",
       "      <td>19</td>\n",
       "      <td>283</td>\n",
       "      <td>140</td>\n",
       "      <td>143</td>\n",
       "      <td>0.0</td>\n",
       "      <td>17</td>\n",
       "      <td>324</td>\n",
       "      <td>126</td>\n",
       "      <td>198</td>\n",
       "      <td>2.0</td>\n",
       "    </tr>\n",
       "    <tr>\n",
       "      <th>51</th>\n",
       "      <td>W</td>\n",
       "      <td>away</td>\n",
       "      <td>Carolina Panthers</td>\n",
       "      <td>26</td>\n",
       "      <td>24</td>\n",
       "      <td>23</td>\n",
       "      <td>355</td>\n",
       "      <td>138</td>\n",
       "      <td>217</td>\n",
       "      <td>0.0</td>\n",
       "      <td>15</td>\n",
       "      <td>261</td>\n",
       "      <td>207</td>\n",
       "      <td>54</td>\n",
       "      <td>1.0</td>\n",
       "    </tr>\n",
       "    <tr>\n",
       "      <th>23</th>\n",
       "      <td>L</td>\n",
       "      <td>home</td>\n",
       "      <td>Las Vegas Raiders</td>\n",
       "      <td>6</td>\n",
       "      <td>16</td>\n",
       "      <td>14</td>\n",
       "      <td>223</td>\n",
       "      <td>122</td>\n",
       "      <td>101</td>\n",
       "      <td>1.0</td>\n",
       "      <td>24</td>\n",
       "      <td>309</td>\n",
       "      <td>100</td>\n",
       "      <td>209</td>\n",
       "      <td>0.0</td>\n",
       "    </tr>\n",
       "    <tr>\n",
       "      <th>22</th>\n",
       "      <td>W</td>\n",
       "      <td>away</td>\n",
       "      <td>Cincinnati Bengals</td>\n",
       "      <td>37</td>\n",
       "      <td>34</td>\n",
       "      <td>23</td>\n",
       "      <td>398</td>\n",
       "      <td>316</td>\n",
       "      <td>82</td>\n",
       "      <td>1.0</td>\n",
       "      <td>31</td>\n",
       "      <td>468</td>\n",
       "      <td>387</td>\n",
       "      <td>81</td>\n",
       "      <td>2.0</td>\n",
       "    </tr>\n",
       "    <tr>\n",
       "      <th>2</th>\n",
       "      <td>L</td>\n",
       "      <td>home</td>\n",
       "      <td>Los Angeles Rams</td>\n",
       "      <td>13</td>\n",
       "      <td>20</td>\n",
       "      <td>18</td>\n",
       "      <td>270</td>\n",
       "      <td>175</td>\n",
       "      <td>95</td>\n",
       "      <td>1.0</td>\n",
       "      <td>20</td>\n",
       "      <td>344</td>\n",
       "      <td>254</td>\n",
       "      <td>90</td>\n",
       "      <td>3.0</td>\n",
       "    </tr>\n",
       "    <tr>\n",
       "      <th>12</th>\n",
       "      <td>W</td>\n",
       "      <td>home</td>\n",
       "      <td>Cincinnati Bengals</td>\n",
       "      <td>27</td>\n",
       "      <td>19</td>\n",
       "      <td>17</td>\n",
       "      <td>333</td>\n",
       "      <td>187</td>\n",
       "      <td>146</td>\n",
       "      <td>2.0</td>\n",
       "      <td>27</td>\n",
       "      <td>451</td>\n",
       "      <td>272</td>\n",
       "      <td>179</td>\n",
       "      <td>1.0</td>\n",
       "    </tr>\n",
       "    <tr>\n",
       "      <th>32</th>\n",
       "      <td>W</td>\n",
       "      <td>away</td>\n",
       "      <td>Pittsburgh Steelers</td>\n",
       "      <td>48</td>\n",
       "      <td>37</td>\n",
       "      <td>20</td>\n",
       "      <td>390</td>\n",
       "      <td>263</td>\n",
       "      <td>127</td>\n",
       "      <td>0.0</td>\n",
       "      <td>34</td>\n",
       "      <td>553</td>\n",
       "      <td>501</td>\n",
       "      <td>52</td>\n",
       "      <td>5.0</td>\n",
       "    </tr>\n",
       "    <tr>\n",
       "      <th>59</th>\n",
       "      <td>L</td>\n",
       "      <td>away</td>\n",
       "      <td>Miami Dolphins</td>\n",
       "      <td>17</td>\n",
       "      <td>39</td>\n",
       "      <td>20</td>\n",
       "      <td>297</td>\n",
       "      <td>185</td>\n",
       "      <td>112</td>\n",
       "      <td>1.0</td>\n",
       "      <td>29</td>\n",
       "      <td>491</td>\n",
       "      <td>296</td>\n",
       "      <td>195</td>\n",
       "      <td>0.0</td>\n",
       "    </tr>\n",
       "    <tr>\n",
       "      <th>54</th>\n",
       "      <td>L</td>\n",
       "      <td>away</td>\n",
       "      <td>Atlanta Falcons</td>\n",
       "      <td>20</td>\n",
       "      <td>23</td>\n",
       "      <td>22</td>\n",
       "      <td>403</td>\n",
       "      <td>226</td>\n",
       "      <td>177</td>\n",
       "      <td>2.0</td>\n",
       "      <td>19</td>\n",
       "      <td>333</td>\n",
       "      <td>131</td>\n",
       "      <td>202</td>\n",
       "      <td>1.0</td>\n",
       "    </tr>\n",
       "    <tr>\n",
       "      <th>1</th>\n",
       "      <td>W</td>\n",
       "      <td>away</td>\n",
       "      <td>New York Jets</td>\n",
       "      <td>23</td>\n",
       "      <td>3</td>\n",
       "      <td>16</td>\n",
       "      <td>375</td>\n",
       "      <td>305</td>\n",
       "      <td>70</td>\n",
       "      <td>1.0</td>\n",
       "      <td>13</td>\n",
       "      <td>262</td>\n",
       "      <td>169</td>\n",
       "      <td>93</td>\n",
       "      <td>1.0</td>\n",
       "    </tr>\n",
       "    <tr>\n",
       "      <th>13</th>\n",
       "      <td>L</td>\n",
       "      <td>away</td>\n",
       "      <td>Arizona Cardinals</td>\n",
       "      <td>24</td>\n",
       "      <td>38</td>\n",
       "      <td>25</td>\n",
       "      <td>393</td>\n",
       "      <td>241</td>\n",
       "      <td>152</td>\n",
       "      <td>2.0</td>\n",
       "      <td>26</td>\n",
       "      <td>445</td>\n",
       "      <td>219</td>\n",
       "      <td>226</td>\n",
       "      <td>1.0</td>\n",
       "    </tr>\n",
       "    <tr>\n",
       "      <th>9</th>\n",
       "      <td>W</td>\n",
       "      <td>home</td>\n",
       "      <td>Pittsburgh Steelers</td>\n",
       "      <td>21</td>\n",
       "      <td>7</td>\n",
       "      <td>17</td>\n",
       "      <td>293</td>\n",
       "      <td>189</td>\n",
       "      <td>104</td>\n",
       "      <td>0.0</td>\n",
       "      <td>18</td>\n",
       "      <td>236</td>\n",
       "      <td>178</td>\n",
       "      <td>58</td>\n",
       "      <td>4.0</td>\n",
       "    </tr>\n",
       "    <tr>\n",
       "      <th>30</th>\n",
       "      <td>L</td>\n",
       "      <td>away</td>\n",
       "      <td>New York Jets</td>\n",
       "      <td>16</td>\n",
       "      <td>23</td>\n",
       "      <td>23</td>\n",
       "      <td>299</td>\n",
       "      <td>254</td>\n",
       "      <td>45</td>\n",
       "      <td>2.0</td>\n",
       "      <td>18</td>\n",
       "      <td>333</td>\n",
       "      <td>202</td>\n",
       "      <td>131</td>\n",
       "      <td>0.0</td>\n",
       "    </tr>\n",
       "    <tr>\n",
       "      <th>10</th>\n",
       "      <td>W</td>\n",
       "      <td>home</td>\n",
       "      <td>Miami Dolphins</td>\n",
       "      <td>41</td>\n",
       "      <td>24</td>\n",
       "      <td>30</td>\n",
       "      <td>467</td>\n",
       "      <td>320</td>\n",
       "      <td>147</td>\n",
       "      <td>1.0</td>\n",
       "      <td>22</td>\n",
       "      <td>284</td>\n",
       "      <td>192</td>\n",
       "      <td>92</td>\n",
       "      <td>2.0</td>\n",
       "    </tr>\n",
       "    <tr>\n",
       "      <th>33</th>\n",
       "      <td>L</td>\n",
       "      <td>away</td>\n",
       "      <td>Kansas City Chiefs</td>\n",
       "      <td>17</td>\n",
       "      <td>22</td>\n",
       "      <td>21</td>\n",
       "      <td>308</td>\n",
       "      <td>196</td>\n",
       "      <td>112</td>\n",
       "      <td>2.0</td>\n",
       "      <td>24</td>\n",
       "      <td>438</td>\n",
       "      <td>315</td>\n",
       "      <td>123</td>\n",
       "      <td>1.0</td>\n",
       "    </tr>\n",
       "    <tr>\n",
       "      <th>40</th>\n",
       "      <td>W</td>\n",
       "      <td>home</td>\n",
       "      <td>Denver Broncos</td>\n",
       "      <td>17</td>\n",
       "      <td>14</td>\n",
       "      <td>23</td>\n",
       "      <td>376</td>\n",
       "      <td>194</td>\n",
       "      <td>182</td>\n",
       "      <td>0.0</td>\n",
       "      <td>15</td>\n",
       "      <td>223</td>\n",
       "      <td>182</td>\n",
       "      <td>41</td>\n",
       "      <td>1.0</td>\n",
       "    </tr>\n",
       "  </tbody>\n",
       "</table>\n",
       "</div>"
      ],
      "text/plain": [
       "   result location              opponent  points_scored  points_allowed  \\\n",
       "43      L     away  New England Patriots              7              45   \n",
       "35      W     home        Houston Texans             31              21   \n",
       "55      L     home  Los Angeles Chargers             28              30   \n",
       "0       L     home      Tennessee Titans             13              43   \n",
       "26      W     away  Jacksonville Jaguars             27              25   \n",
       "45      L     away      Baltimore Ravens             10              16   \n",
       "44      W     home         Detroit Lions             13              10   \n",
       "15      L     away    Cincinnati Bengals             23              33   \n",
       "27      W     away      Tennessee Titans             41              35   \n",
       "24      W     home        Houston Texans             10               7   \n",
       "60      L     away         Buffalo Bills             23              31   \n",
       "34      L     away    Kansas City Chiefs             29              33   \n",
       "39      L     home     Arizona Cardinals             14              37   \n",
       "3       W     away      Baltimore Ravens             40              25   \n",
       "62      W     away        Houston Texans             27              14   \n",
       "47      L     home     Las Vegas Raiders             14              16   \n",
       "19      W     away        Dallas Cowboys             49              38   \n",
       "42      W     away    Cincinnati Bengals             41              16   \n",
       "49      L     away   Pittsburgh Steelers             14              26   \n",
       "48      L     away     Green Bay Packers             22              24   \n",
       "64      W     home      Baltimore Ravens             13               3   \n",
       "51      W     away     Carolina Panthers             26              24   \n",
       "23      L     home     Las Vegas Raiders              6              16   \n",
       "22      W     away    Cincinnati Bengals             37              34   \n",
       "2       L     home      Los Angeles Rams             13              20   \n",
       "12      W     home    Cincinnati Bengals             27              19   \n",
       "32      W     away   Pittsburgh Steelers             48              37   \n",
       "59      L     away        Miami Dolphins             17              39   \n",
       "54      L     away       Atlanta Falcons             20              23   \n",
       "1       W     away         New York Jets             23               3   \n",
       "13      L     away     Arizona Cardinals             24              38   \n",
       "9       W     home   Pittsburgh Steelers             21               7   \n",
       "30      L     away         New York Jets             16              23   \n",
       "10      W     home        Miami Dolphins             41              24   \n",
       "33      L     away    Kansas City Chiefs             17              22   \n",
       "40      W     home        Denver Broncos             17              14   \n",
       "\n",
       "    first_downs_gained  total_yards_gained  pass_yards_gained  \\\n",
       "43                  17                 217                118   \n",
       "35                  22                 355                199   \n",
       "55                  27                 443                230   \n",
       "0                   19                 346                244   \n",
       "26                  25                 459                252   \n",
       "45                  14                 262                222   \n",
       "44                  22                 349                165   \n",
       "15                  15                 313                239   \n",
       "27                  26                 458                340   \n",
       "24                  20                 356                125   \n",
       "60                  27                 396                316   \n",
       "34                  24                 457                304   \n",
       "39                  16                 290                217   \n",
       "3                   22                 530                337   \n",
       "62                  14                 304                130   \n",
       "47                  13                 236                147   \n",
       "19                  33                 508                201   \n",
       "42                  14                 361                208   \n",
       "49                  15                 232                139   \n",
       "48                  28                 408                189   \n",
       "64                  19                 283                140   \n",
       "51                  23                 355                138   \n",
       "23                  14                 223                122   \n",
       "22                  23                 398                316   \n",
       "2                   18                 270                175   \n",
       "12                  17                 333                187   \n",
       "32                  20                 390                263   \n",
       "59                  20                 297                185   \n",
       "54                  22                 403                226   \n",
       "1                   16                 375                305   \n",
       "13                  25                 393                241   \n",
       "9                   17                 293                189   \n",
       "30                  23                 299                254   \n",
       "10                  30                 467                320   \n",
       "33                  21                 308                196   \n",
       "40                  23                 376                194   \n",
       "\n",
       "    rush_yards_gained  turnovers  first_downs_allowed  total_yards_allowed  \\\n",
       "43                 99        1.0                   30                  452   \n",
       "35                156        2.0                   17                  302   \n",
       "55                213        1.0                   26                  465   \n",
       "0                 102        3.0                   21                  339   \n",
       "26                207        1.0                   22                  375   \n",
       "45                 40        2.0                   22                  303   \n",
       "44                184        2.0                   12                  245   \n",
       "15                 74        3.0                   22                  361   \n",
       "27                118        1.0                   25                  431   \n",
       "24                231        0.0                   16                  243   \n",
       "60                 80        1.0                   22                  357   \n",
       "34                153        2.0                   21                  397   \n",
       "39                 73        3.0                   24                  352   \n",
       "3                 193        1.0                   24                  395   \n",
       "62                174        2.0                   16                  283   \n",
       "47                 89        0.0                   20                  328   \n",
       "19                307        0.0                   35                  566   \n",
       "42                153        0.0                   25                  348   \n",
       "49                 93        2.0                   20                  299   \n",
       "48                219        4.0                   19                  311   \n",
       "64                143        0.0                   17                  324   \n",
       "51                217        0.0                   15                  261   \n",
       "23                101        1.0                   24                  309   \n",
       "22                 82        1.0                   31                  468   \n",
       "2                  95        1.0                   20                  344   \n",
       "12                146        2.0                   27                  451   \n",
       "32                127        0.0                   34                  553   \n",
       "59                112        1.0                   29                  491   \n",
       "54                177        2.0                   19                  333   \n",
       "1                  70        1.0                   13                  262   \n",
       "13                152        2.0                   26                  445   \n",
       "9                 104        0.0                   18                  236   \n",
       "30                 45        2.0                   18                  333   \n",
       "10                147        1.0                   22                  284   \n",
       "33                112        2.0                   24                  438   \n",
       "40                182        0.0                   15                  223   \n",
       "\n",
       "    pass_yards_allowed  rush_yards_allowed  turnovers_forced  \n",
       "43                 268                 184               0.0  \n",
       "35                 220                  82               2.0  \n",
       "55                 227                 238               0.0  \n",
       "0                  216                 123               0.0  \n",
       "26                 235                 140               0.0  \n",
       "45                 155                 148               4.0  \n",
       "44                  77                 168               2.0  \n",
       "15                 182                 179               1.0  \n",
       "27                 369                  62               3.0  \n",
       "24                 153                  90               0.0  \n",
       "60                 186                 171               0.0  \n",
       "34                 324                  73               0.0  \n",
       "39                 208                 144               0.0  \n",
       "3                  222                 173               3.0  \n",
       "62                 201                  82               4.0  \n",
       "47                 230                  98               2.0  \n",
       "19                 481                  85               3.0  \n",
       "42                 263                  85               3.0  \n",
       "49                 109                 190               1.0  \n",
       "48                 202                 109               0.0  \n",
       "64                 126                 198               2.0  \n",
       "51                 207                  54               1.0  \n",
       "23                 100                 209               0.0  \n",
       "22                 387                  81               2.0  \n",
       "2                  254                  90               3.0  \n",
       "12                 272                 179               1.0  \n",
       "32                 501                  52               5.0  \n",
       "59                 296                 195               0.0  \n",
       "54                 131                 202               1.0  \n",
       "1                  169                  93               1.0  \n",
       "13                 219                 226               1.0  \n",
       "9                  178                  58               4.0  \n",
       "30                 202                 131               0.0  \n",
       "10                 192                  92               2.0  \n",
       "33                 315                 123               1.0  \n",
       "40                 182                  41               1.0  "
      ]
     },
     "execution_count": 30,
     "metadata": {},
     "output_type": "execute_result"
    }
   ],
   "source": [
    "train"
   ]
  },
  {
   "cell_type": "code",
   "execution_count": 38,
   "id": "19c4df37",
   "metadata": {},
   "outputs": [
    {
     "data": {
      "text/plain": [
       "<AxesSubplot:xlabel='location', ylabel='count'>"
      ]
     },
     "execution_count": 38,
     "metadata": {},
     "output_type": "execute_result"
    },
    {
     "data": {
      "image/png": "[encoded data removed]",
      "text/plain": [
       "<Figure size 432x288 with 1 Axes>"
      ]
     },
     "metadata": {
      "needs_background": "light"
     },
     "output_type": "display_data"
    }
   ],
   "source": [
    "# Create for loop to produce graphics for categorical variables and target \n",
    "# categoricals location\n",
    "sns.countplot(data=train, x=\"location\", hue=\"result\")"
   ]
  },
  {
   "cell_type": "code",
   "execution_count": 39,
   "id": "654b2723",
   "metadata": {},
   "outputs": [
    {
     "data": {
      "text/html": [
       "<div>\n",
       "<style scoped>\n",
       "    .dataframe tbody tr th:only-of-type {\n",
       "        vertical-align: middle;\n",
       "    }\n",
       "\n",
       "    .dataframe tbody tr th {\n",
       "        vertical-align: top;\n",
       "    }\n",
       "\n",
       "    .dataframe thead th {\n",
       "        text-align: right;\n",
       "    }\n",
       "</style>\n",
       "<table border=\"1\" class=\"dataframe\">\n",
       "  <thead>\n",
       "    <tr style=\"text-align: right;\">\n",
       "      <th>location</th>\n",
       "      <th>away</th>\n",
       "      <th>home</th>\n",
       "    </tr>\n",
       "    <tr>\n",
       "      <th>result</th>\n",
       "      <th></th>\n",
       "      <th></th>\n",
       "    </tr>\n",
       "  </thead>\n",
       "  <tbody>\n",
       "    <tr>\n",
       "      <th>L</th>\n",
       "      <td>12</td>\n",
       "      <td>6</td>\n",
       "    </tr>\n",
       "    <tr>\n",
       "      <th>W</th>\n",
       "      <td>10</td>\n",
       "      <td>8</td>\n",
       "    </tr>\n",
       "  </tbody>\n",
       "</table>\n",
       "</div>"
      ],
      "text/plain": [
       "location  away  home\n",
       "result              \n",
       "L           12     6\n",
       "W           10     8"
      ]
     },
     "execution_count": 39,
     "metadata": {},
     "output_type": "execute_result"
    }
   ],
   "source": [
    "#statistical test / Chi square because both variables are categorical variables\n",
    "# cross tab created in preparation to run chi^2 test\n",
    "\n",
    "observed = pd.crosstab(train.result, train.location)\n",
    "observed"
   ]
  },
  {
   "cell_type": "code",
   "execution_count": 40,
   "id": "fbe8d02b",
   "metadata": {},
   "outputs": [
    {
     "data": {
      "text/plain": [
       "0.7324398999038724"
      ]
     },
     "execution_count": 40,
     "metadata": {},
     "output_type": "execute_result"
    }
   ],
   "source": [
    "# chi square statistical test \n",
    "chi2, p, degf, expected = stats.chi2_contingency(observed)\n",
    "\n",
    "p"
   ]
  },
  {
   "cell_type": "markdown",
   "id": "185f639c",
   "metadata": {},
   "source": [
    "### Takeaways \n",
    "- appears that browns win more games at home then away\n",
    "- not significant according to test "
   ]
  },
  {
   "cell_type": "code",
   "execution_count": 41,
   "id": "fe636356",
   "metadata": {},
   "outputs": [
    {
     "name": "stdout",
     "output_type": "stream",
     "text": [
      "<class 'pandas.core.frame.DataFrame'>\n",
      "Int64Index: 36 entries, 43 to 40\n",
      "Data columns (total 15 columns):\n",
      " #   Column               Non-Null Count  Dtype  \n",
      "---  ------               --------------  -----  \n",
      " 0   result               36 non-null     object \n",
      " 1   location             36 non-null     object \n",
      " 2   opponent             36 non-null     object \n",
      " 3   points_scored        36 non-null     int64  \n",
      " 4   points_allowed       36 non-null     int64  \n",
      " 5   first_downs_gained   36 non-null     int64  \n",
      " 6   total_yards_gained   36 non-null     int64  \n",
      " 7   pass_yards_gained    36 non-null     int64  \n",
      " 8   rush_yards_gained    36 non-null     int64  \n",
      " 9   turnovers            36 non-null     float64\n",
      " 10  first_downs_allowed  36 non-null     int64  \n",
      " 11  total_yards_allowed  36 non-null     int64  \n",
      " 12  pass_yards_allowed   36 non-null     int64  \n",
      " 13  rush_yards_allowed   36 non-null     int64  \n",
      " 14  turnovers_forced     36 non-null     float64\n",
      "dtypes: float64(2), int64(10), object(3)\n",
      "memory usage: 4.5+ KB\n"
     ]
    }
   ],
   "source": [
    "train.info()"
   ]
  },
  {
   "cell_type": "code",
   "execution_count": null,
   "id": "41859ce1",
   "metadata": {},
   "outputs": [],
   "source": [
    "# comparing mean of rush yards in games won to mean of all games \n",
    "# same outcome for both variables, win result \n"
   ]
  },
  {
   "cell_type": "code",
   "execution_count": 55,
   "id": "4394f3ff",
   "metadata": {},
   "outputs": [
    {
     "data": {
      "text/plain": [
       "<AxesSubplot:>"
      ]
     },
     "execution_count": 55,
     "metadata": {},
     "output_type": "execute_result"
    },
    {
     "data": {
      "image/png": "[encoded data removed]",
      "text/plain": [
       "<Figure size 432x288 with 1 Axes>"
      ]
     },
     "metadata": {
      "needs_background": "light"
     },
     "output_type": "display_data"
    }
   ],
   "source": [
    "# distribution of rush yards per game \n",
    "train.rush_yards_gained.hist()"
   ]
  },
  {
   "cell_type": "code",
   "execution_count": 69,
   "id": "0ff616ec",
   "metadata": {},
   "outputs": [
    {
     "data": {
      "text/plain": [
       "<AxesSubplot:>"
      ]
     },
     "execution_count": 69,
     "metadata": {},
     "output_type": "execute_result"
    },
    {
     "data": {
      "image/png": "[encoded data removed]",
      "text/plain": [
       "<Figure size 432x288 with 1 Axes>"
      ]
     },
     "metadata": {
      "needs_background": "light"
     },
     "output_type": "display_data"
    }
   ],
   "source": [
    "# mean of rush yards in games won \n",
    "rush_sample = train[train.result == \"W\"].rush_yards_gained\n",
    "\n",
    "rush_sample.hist()"
   ]
  },
  {
   "cell_type": "code",
   "execution_count": 53,
   "id": "3fac6a1e",
   "metadata": {},
   "outputs": [],
   "source": [
    "# mean of rush yards in all games \n",
    "overall_mean_rush = train.rush_yards_gained.mean()"
   ]
  },
  {
   "cell_type": "code",
   "execution_count": 54,
   "id": "9b26906c",
   "metadata": {},
   "outputs": [
    {
     "name": "stdout",
     "output_type": "stream",
     "text": [
      "1.8872370428004273 0.038162039041491395\n"
     ]
    }
   ],
   "source": [
    "# stats test \n",
    "t, p = stats.ttest_1samp(rush_sample, overall_mean_rush)\n",
    "\n",
    "print(t, p/2)\n",
    "\n"
   ]
  },
  {
   "cell_type": "markdown",
   "id": "6dba24ad",
   "metadata": {},
   "source": [
    "###  hypothesis \n",
    "\n",
    "Hnull: Mean rushing yards in games won <= mean of rush yards in all games <br>\n",
    "Halt: Mean of rushing yards in games won is > mean of rush yards in all games \n"
   ]
  },
  {
   "cell_type": "markdown",
   "id": "e117f998",
   "metadata": {},
   "source": [
    "### takeaway \n",
    "- reject null hypothesis and accept alternative \n",
    "- there is support for the idea that the man of rushing yards in games won is greater than in all games \n",
    "- consider using rush yards for model "
   ]
  },
  {
   "cell_type": "code",
   "execution_count": 72,
   "id": "c1d7c2cf",
   "metadata": {},
   "outputs": [
    {
     "data": {
      "text/plain": [
       "<AxesSubplot:>"
      ]
     },
     "execution_count": 72,
     "metadata": {},
     "output_type": "execute_result"
    },
    {
     "data": {
      "image/png": "[encoded data removed]",
      "text/plain": [
       "<Figure size 432x288 with 1 Axes>"
      ]
     },
     "metadata": {
      "needs_background": "light"
     },
     "output_type": "display_data"
    }
   ],
   "source": [
    "train.turnovers_forced.hist()"
   ]
  },
  {
   "cell_type": "code",
   "execution_count": 70,
   "id": "6ed3f77d",
   "metadata": {},
   "outputs": [
    {
     "data": {
      "text/plain": [
       "<AxesSubplot:>"
      ]
     },
     "execution_count": 70,
     "metadata": {},
     "output_type": "execute_result"
    },
    {
     "data": {
      "image/png": "[encoded data removed]",
      "text/plain": [
       "<Figure size 432x288 with 1 Axes>"
      ]
     },
     "metadata": {
      "needs_background": "light"
     },
     "output_type": "display_data"
    }
   ],
   "source": [
    "# Is there a relationshp between forced turnovers and result of game \n",
    "forced_turnover_sample = train[train.result == \"W\"].turnovers_forced\n",
    "\n",
    "forced_turnover_sample.hist()"
   ]
  },
  {
   "cell_type": "code",
   "execution_count": 75,
   "id": "3cc86881",
   "metadata": {},
   "outputs": [],
   "source": [
    "overall_mean_forced_turnovers = train.turnovers_forced.mean()"
   ]
  },
  {
   "cell_type": "code",
   "execution_count": 76,
   "id": "04882bfb",
   "metadata": {},
   "outputs": [
    {
     "name": "stdout",
     "output_type": "stream",
     "text": [
      "2.1308679664864942 0.023998390047606413\n"
     ]
    }
   ],
   "source": [
    "# stats test \n",
    "t, p = stats.ttest_1samp(forced_turnover_sample, overall_mean_forced_turnovers)\n",
    "\n",
    "print(t, p/2)\n"
   ]
  },
  {
   "cell_type": "code",
   "execution_count": null,
   "id": "579f8d92",
   "metadata": {},
   "outputs": [],
   "source": [
    "# Hypothesis \n",
    "\n",
    "Hnull: Mean forced turnovers in games won <= mean of forced turnovers in all games <br>\n",
    "Halt: Mean of forced turnovers in games won is > mean of forced turnovers in all games "
   ]
  },
  {
   "cell_type": "markdown",
   "id": "9ca80c96",
   "metadata": {},
   "source": [
    "### Takeaways \n",
    "\n",
    "- Statistical tests supports the idea that forced turnovers has a relationship with the result of the game "
   ]
  },
  {
   "cell_type": "code",
   "execution_count": 83,
   "id": "7a72f430",
   "metadata": {},
   "outputs": [],
   "source": [
    "rush_two_hundred_sample = train[train.result == \"W\"].rush_yards_gained > 200\n",
    "#rush_sample = train[train.result == \"W\"].rush_yards_gained"
   ]
  },
  {
   "cell_type": "code",
   "execution_count": 91,
   "id": "bf1c6e9d",
   "metadata": {},
   "outputs": [
    {
     "data": {
      "text/plain": [
       "<AxesSubplot:>"
      ]
     },
     "execution_count": 91,
     "metadata": {},
     "output_type": "execute_result"
    },
    {
     "data": {
      "image/png": "[encoded data removed]",
      "text/plain": [
       "<Figure size 432x288 with 1 Axes>"
      ]
     },
     "metadata": {
      "needs_background": "light"
     },
     "output_type": "display_data"
    }
   ],
   "source": [
    "train.rush_yards_gained.hist()"
   ]
  },
  {
   "cell_type": "code",
   "execution_count": 95,
   "id": "fcbbf689",
   "metadata": {},
   "outputs": [
    {
     "data": {
      "text/plain": [
       "False    14\n",
       "True      4\n",
       "Name: rush_yards_gained, dtype: int64"
      ]
     },
     "execution_count": 95,
     "metadata": {},
     "output_type": "execute_result"
    }
   ],
   "source": [
    "rush_two_hundred_sample.value_counts()"
   ]
  },
  {
   "cell_type": "code",
   "execution_count": 88,
   "id": "b5934773",
   "metadata": {},
   "outputs": [
    {
     "name": "stdout",
     "output_type": "stream",
     "text": [
      "-1366.9644224129815 1.3496277829601584e-44\n"
     ]
    }
   ],
   "source": [
    "# stats test \n",
    "t, p = stats.ttest_1samp(rush_two_hundred_sample, overall_mean_rush)\n",
    "\n",
    "print(t, p/2)"
   ]
  },
  {
   "cell_type": "code",
   "execution_count": null,
   "id": "790229e1",
   "metadata": {},
   "outputs": [],
   "source": [
    "# Takeaways \n",
    "significant difference in mean of rush yards in games browns won compared to all games "
   ]
  },
  {
   "cell_type": "code",
   "execution_count": 98,
   "id": "fef8b05a",
   "metadata": {},
   "outputs": [],
   "source": [
    "#Do Browns win when they allow less than 300 total yards? \n",
    "\n",
    "total_yards_allowed_sample = train[train.result == \"W\"].total_yards_allowed < 300"
   ]
  },
  {
   "cell_type": "code",
   "execution_count": 99,
   "id": "7e7a8602",
   "metadata": {},
   "outputs": [],
   "source": [
    "overall_mean_total_yards = train.total_yards_allowed.mean()"
   ]
  },
  {
   "cell_type": "code",
   "execution_count": 101,
   "id": "66e6643a",
   "metadata": {},
   "outputs": [
    {
     "name": "stdout",
     "output_type": "stream",
     "text": [
      "-2971.228689974065 2.501487448554588e-50\n"
     ]
    }
   ],
   "source": [
    "# stats test \n",
    "t, p = stats.ttest_1samp(total_yards_allowed_sample, overall_mean_total_yards)\n",
    "\n",
    "print(t, p/2)"
   ]
  },
  {
   "cell_type": "code",
   "execution_count": null,
   "id": "4128d65e",
   "metadata": {},
   "outputs": [],
   "source": [
    "### Takeaways \n",
    "\n",
    "- allowing less than 300 yards has a relationship with the result of the game "
   ]
  },
  {
   "cell_type": "code",
   "execution_count": null,
   "id": "25c19457",
   "metadata": {},
   "outputs": [],
   "source": [
    "#Do browns win when they have less than 2 turnovers? \n"
   ]
  },
  {
   "cell_type": "code",
   "execution_count": 102,
   "id": "a342ab5d",
   "metadata": {},
   "outputs": [],
   "source": [
    "# boolean mask for turnovers less than 2 \n",
    "turnovers_sample = train[train.result == \"W\"].turnovers < 2"
   ]
  },
  {
   "cell_type": "code",
   "execution_count": 103,
   "id": "730e5fb2",
   "metadata": {},
   "outputs": [],
   "source": [
    "overall_mean_turnovers = train.turnovers.mean()"
   ]
  },
  {
   "cell_type": "code",
   "execution_count": 104,
   "id": "5fdc13b4",
   "metadata": {},
   "outputs": [
    {
     "name": "stdout",
     "output_type": "stream",
     "text": [
      "-5.2342450676837275 3.366189182644262e-05\n"
     ]
    }
   ],
   "source": [
    "# stats test \n",
    "t, p = stats.ttest_1samp(turnovers_sample, overall_mean_turnovers)\n",
    "\n",
    "print(t, p/2)"
   ]
  },
  {
   "cell_type": "markdown",
   "id": "86be6a3e",
   "metadata": {},
   "source": [
    "### takeaways\n",
    "- less than two turnovers has a relationship with the result of the game "
   ]
  },
  {
   "cell_type": "markdown",
   "id": "f0bb59fb",
   "metadata": {},
   "source": [
    "## Prepare for modeling "
   ]
  },
  {
   "cell_type": "code",
   "execution_count": null,
   "id": "e8584d1b",
   "metadata": {},
   "outputs": [],
   "source": [
    "# create columns with booleans for "
   ]
  }
 ],
 "metadata": {
  "kernelspec": {
   "display_name": "Python 3 (ipykernel)",
   "language": "python",
   "name": "python3"
  },
  "language_info": {
   "codemirror_mode": {
    "name": "ipython",
    "version": 3
   },
   "file_extension": ".py",
   "mimetype": "text/x-python",
   "name": "python",
   "nbconvert_exporter": "python",
   "pygments_lexer": "ipython3",
   "version": "3.9.12"
  }
 },
 "nbformat": 4,
 "nbformat_minor": 5
}
